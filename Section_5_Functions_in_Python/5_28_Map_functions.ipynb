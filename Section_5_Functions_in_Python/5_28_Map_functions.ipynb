{
 "cells": [
  {
   "cell_type": "markdown",
   "id": "0c22be21",
   "metadata": {},
   "source": [
    "# Map function in Python "
   ]
  },
  {
   "cell_type": "code",
   "execution_count": 2,
   "id": "9d4dde63",
   "metadata": {},
   "outputs": [
    {
     "name": "stdout",
     "output_type": "stream",
     "text": [
      "It's good to learn programming\n"
     ]
    }
   ],
   "source": [
    "print(\"It's good to learn programming\")"
   ]
  },
  {
   "cell_type": "markdown",
   "id": "88e5f5f5",
   "metadata": {},
   "source": [
    "# Create a function that squares a number"
   ]
  },
  {
   "cell_type": "code",
   "execution_count": 4,
   "id": "1d7afb2f",
   "metadata": {},
   "outputs": [
    {
     "name": "stdout",
     "output_type": "stream",
     "text": [
      "33489\n"
     ]
    }
   ],
   "source": [
    "# Create a function that squares a number\n",
    "def squares(num):\n",
    "    return num**2\n",
    "\n",
    "# calling the function \n",
    "print(squares(183))"
   ]
  },
  {
   "cell_type": "markdown",
   "id": "c74faa5b",
   "metadata": {},
   "source": [
    "## Given a list of integers , print the squares of numbers in a list using for loop "
   ]
  },
  {
   "cell_type": "code",
   "execution_count": 3,
   "id": "39f15b91",
   "metadata": {},
   "outputs": [
    {
     "name": "stdout",
     "output_type": "stream",
     "text": [
      "[1, 4, 9, 16, 25, 36, 49, 64]\n"
     ]
    }
   ],
   "source": [
    "# Squaring the elements using a for loop \n",
    "numbers=[1,2,3,4,5,6,7,8]\n",
    "\n",
    "for i in range(len(numbers)): \n",
    "    numbers[i] = numbers[i]**2\n",
    "\n",
    "print(numbers)"
   ]
  },
  {
   "cell_type": "markdown",
   "id": "51050386",
   "metadata": {},
   "source": [
    "## Use map function to do squaring of elements in a list "
   ]
  },
  {
   "cell_type": "code",
   "execution_count": null,
   "id": "9710d597",
   "metadata": {},
   "outputs": [
    {
     "name": "stdout",
     "output_type": "stream",
     "text": [
      "[1, 4, 9, 16, 25, 36, 49, 64]\n"
     ]
    }
   ],
   "source": [
    "# Using map function to do squaring\n",
    "numbers=[1,2,3,4,5,6,7,8]\n",
    "\n",
    "# Function \n",
    "def square2(num): \n",
    "    return num**2\n",
    "\n",
    "print(list(map(square2,numbers)))"
   ]
  },
  {
   "cell_type": "markdown",
   "id": "dc5a91e8",
   "metadata": {},
   "source": [
    "# Use map() function that accepts multiple iterables"
   ]
  },
  {
   "cell_type": "code",
   "execution_count": 11,
   "id": "ac85aaf7",
   "metadata": {},
   "outputs": [
    {
     "name": "stdout",
     "output_type": "stream",
     "text": [
      "[5, 7, 9]\n"
     ]
    }
   ],
   "source": [
    "# map() with multiple iterables \n",
    "numbers1 = [1,2,3]\n",
    "numbers2 = [4,5,6]\n",
    "\n",
    "result = list(map(lambda x,y:x+y,numbers1,numbers2))\n",
    "print(result)"
   ]
  },
  {
   "cell_type": "markdown",
   "id": "1cc597fb",
   "metadata": {},
   "source": [
    "# Convert a list of strings to integers"
   ]
  },
  {
   "cell_type": "code",
   "execution_count": null,
   "id": "db658867",
   "metadata": {},
   "outputs": [
    {
     "name": "stdout",
     "output_type": "stream",
     "text": [
      "[1, 2, 3, 4, 5]\n",
      "<class 'list'>\n"
     ]
    }
   ],
   "source": [
    "str_numbers = ['1', '2', '3', '4', '5']\n",
    "int_numbers = list(map(lambda str:int(str),str_numbers))\n",
    "print(int_numbers)"
   ]
  },
  {
   "cell_type": "code",
   "execution_count": null,
   "id": "ce74a332",
   "metadata": {},
   "outputs": [],
   "source": []
  }
 ],
 "metadata": {
  "kernelspec": {
   "display_name": "venv",
   "language": "python",
   "name": "python3"
  },
  "language_info": {
   "codemirror_mode": {
    "name": "ipython",
    "version": 3
   },
   "file_extension": ".py",
   "mimetype": "text/x-python",
   "name": "python",
   "nbconvert_exporter": "python",
   "pygments_lexer": "ipython3",
   "version": "3.12.0"
  }
 },
 "nbformat": 4,
 "nbformat_minor": 5
}
