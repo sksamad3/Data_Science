{
 "cells": [
  {
   "cell_type": "markdown",
   "id": "ae519af5",
   "metadata": {},
   "source": [
    "Lambda Functions "
   ]
  },
  {
   "cell_type": "code",
   "execution_count": 2,
   "id": "5b6bde6d",
   "metadata": {},
   "outputs": [
    {
     "name": "stdout",
     "output_type": "stream",
     "text": [
      "It's good to learn programming\n"
     ]
    }
   ],
   "source": [
    "print(\"It's good to learn programming\")"
   ]
  },
  {
   "cell_type": "code",
   "execution_count": 4,
   "id": "17d6abca",
   "metadata": {},
   "outputs": [
    {
     "name": "stdout",
     "output_type": "stream",
     "text": [
      "6\n"
     ]
    }
   ],
   "source": [
    "def add(a,b):\n",
    "    return a+b \n",
    "\n",
    "print(add(2,4))"
   ]
  },
  {
   "cell_type": "code",
   "execution_count": 8,
   "id": "643cd8da",
   "metadata": {},
   "outputs": [
    {
     "name": "stdout",
     "output_type": "stream",
     "text": [
      "<class 'function'>\n",
      "7\n",
      "55\n"
     ]
    }
   ],
   "source": [
    "# Creating lambda functions to add two numbers \n",
    "addition  = lambda a,b:a+b\n",
    "print(type(addition))\n",
    "\n",
    "print(addition(2,5))\n",
    "\n",
    "# Combined lambda function with variable-length arguments \n",
    "add = lambda *args:sum(args)\n",
    "print(add(1,2,3,4,5,6,7,8,9,10))\n"
   ]
  },
  {
   "cell_type": "code",
   "execution_count": 12,
   "id": "1ff7e784",
   "metadata": {},
   "outputs": [
    {
     "data": {
      "text/plain": [
       "True"
      ]
     },
     "execution_count": 12,
     "metadata": {},
     "output_type": "execute_result"
    }
   ],
   "source": [
    "# A function to check a number is even or odd \n",
    "def even(num): \n",
    "    if num%2==0: \n",
    "        return True\n",
    "    else: \n",
    "        return False\n",
    "    \n",
    "# calling the function \n",
    "even(54)"
   ]
  },
  {
   "cell_type": "code",
   "execution_count": 13,
   "id": "85cd428e",
   "metadata": {},
   "outputs": [
    {
     "data": {
      "text/plain": [
       "9"
      ]
     },
     "execution_count": 13,
     "metadata": {},
     "output_type": "execute_result"
    }
   ],
   "source": [
    "def add3(x,y,z):\n",
    "    return x+y+z\n",
    "\n",
    "add3(3,4,2)"
   ]
  },
  {
   "cell_type": "code",
   "execution_count": 15,
   "id": "7fcbac24",
   "metadata": {},
   "outputs": [
    {
     "name": "stdout",
     "output_type": "stream",
     "text": [
      "3\n"
     ]
    }
   ],
   "source": [
    "# Creating a lambda function\n",
    "add4 = lambda x,y,z:x+y+z\n",
    "print(add4(1,1,1))"
   ]
  },
  {
   "cell_type": "code",
   "execution_count": null,
   "id": "dd02a686",
   "metadata": {},
   "outputs": [
    {
     "name": "stdout",
     "output_type": "stream",
     "text": [
      "25\n"
     ]
    }
   ],
   "source": []
  },
  {
   "cell_type": "code",
   "execution_count": 2,
   "id": "fdea6a93",
   "metadata": {},
   "outputs": [
    {
     "name": "stdout",
     "output_type": "stream",
     "text": [
      "[1, 4, 9, 16, 25, 36, 49]\n"
     ]
    }
   ],
   "source": [
    "# using map \n",
    "numbers = [1,2,3,4,5,6,7]\n",
    "\n",
    "def sq(numbers):\n",
    "    for i in range(len(numbers)): \n",
    "        numbers[i]*=numbers[i]\n",
    "    return numbers\n",
    "\n",
    "print(sq(numbers))"
   ]
  },
  {
   "cell_type": "code",
   "execution_count": 3,
   "id": "7198353f",
   "metadata": {},
   "outputs": [
    {
     "data": {
      "text/plain": [
       "[1, 16, 81, 256, 625, 1296, 2401]"
      ]
     },
     "execution_count": 3,
     "metadata": {},
     "output_type": "execute_result"
    }
   ],
   "source": [
    "# Using map Function\n",
    "list(map(lambda x:x**2 ,numbers))"
   ]
  }
 ],
 "metadata": {
  "kernelspec": {
   "display_name": "Python 3",
   "language": "python",
   "name": "python3"
  },
  "language_info": {
   "codemirror_mode": {
    "name": "ipython",
    "version": 3
   },
   "file_extension": ".py",
   "mimetype": "text/x-python",
   "name": "python",
   "nbconvert_exporter": "python",
   "pygments_lexer": "ipython3",
   "version": "3.12.0"
  }
 },
 "nbformat": 4,
 "nbformat_minor": 5
}
