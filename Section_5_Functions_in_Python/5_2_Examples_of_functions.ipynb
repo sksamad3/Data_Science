{
 "cells": [
  {
   "cell_type": "markdown",
   "id": "787dd91a",
   "metadata": {},
   "source": [
    "Examples of functions"
   ]
  },
  {
   "cell_type": "code",
   "execution_count": 1,
   "id": "451265cc",
   "metadata": {},
   "outputs": [
    {
     "name": "stdout",
     "output_type": "stream",
     "text": [
      "It's good to learn programming\n"
     ]
    }
   ],
   "source": [
    "print(\"It\\'s good to learn programming\")"
   ]
  },
  {
   "cell_type": "code",
   "execution_count": 2,
   "id": "9e2b5d19",
   "metadata": {},
   "outputs": [
    {
     "name": "stdout",
     "output_type": "stream",
     "text": [
      "False\n",
      "True\n"
     ]
    }
   ],
   "source": [
    "def isstrong_password(password): \n",
    "    if len(password)<8:\n",
    "        return False\n",
    "    if not any(char.isdigit() for char in password):\n",
    "        return False\n",
    "    if not any(char.isupper() for char in password):\n",
    "        return False\n",
    "    if not any(char.islower() for char in password): \n",
    "        return False\n",
    "    if not any(char in '!@#$%^&*()_+' for char in password): \n",
    "        return False\n",
    "    return True\n",
    "    \n",
    "print(isstrong_password(\"WeakPwd\"))\n",
    "print(isstrong_password(\"Str0ngPwd!\"))"
   ]
  },
  {
   "cell_type": "markdown",
   "id": "7768a72e",
   "metadata": {},
   "source": [
    "Calculating the price of items in a cart"
   ]
  },
  {
   "cell_type": "code",
   "execution_count": 7,
   "id": "30fdbe8c",
   "metadata": {},
   "outputs": [],
   "source": [
    "cart = [\n",
    "    {'name':'Apple','price':0.5,'quantity':4},\n",
    "    {'name':'Banana','price':0.3,'quantity':6},\n",
    "    {'name':'Orange','price':0.7,'quantity':3}\n",
    "]\n",
    "\n"
   ]
  },
  {
   "cell_type": "code",
   "execution_count": 14,
   "id": "d13c7394",
   "metadata": {},
   "outputs": [
    {
     "name": "stdout",
     "output_type": "stream",
     "text": [
      "Total cost :  5.8999999999999995\n"
     ]
    }
   ],
   "source": [
    "def calculate_cost(cart): \n",
    "    total_cost = 0\n",
    "    for items in cart: \n",
    "        total_cost += items['price']*items['quantity']\n",
    "    return total_cost\n",
    "\n",
    "amt = calculate_cost(cart)\n",
    "print(\"Total cost : \",amt)"
   ]
  },
  {
   "cell_type": "markdown",
   "id": "57efeec3",
   "metadata": {},
   "source": [
    "#Check Palindrome String"
   ]
  },
  {
   "cell_type": "code",
   "execution_count": 3,
   "id": "b2cdedca",
   "metadata": {},
   "outputs": [
    {
     "name": "stdout",
     "output_type": "stream",
     "text": [
      "True\n",
      "False\n"
     ]
    }
   ],
   "source": [
    "def check_palindrome(s): \n",
    "    s.lower().replace(\" \",\"\")\n",
    "    return s==s[::-1]\n",
    "\n",
    "print(check_palindrome(\"aba\"))\n",
    "print(check_palindrome(\"Hello\"))"
   ]
  },
  {
   "cell_type": "code",
   "execution_count": null,
   "id": "cdb586db",
   "metadata": {},
   "outputs": [],
   "source": [
    "def find_factorial(num): \n",
    "    if num==0 or num==1: \n",
    "        return 1\n",
    "    return find_factorial(num)* find_factorial(num-1)\n",
    "\n",
    "print(find_factorial(5))"
   ]
  },
  {
   "cell_type": "markdown",
   "id": "0444c3e2",
   "metadata": {},
   "source": []
  },
  {
   "cell_type": "code",
   "execution_count": null,
   "id": "038fa886",
   "metadata": {},
   "outputs": [],
   "source": []
  }
 ],
 "metadata": {
  "kernelspec": {
   "display_name": "Python 3",
   "language": "python",
   "name": "python3"
  },
  "language_info": {
   "codemirror_mode": {
    "name": "ipython",
    "version": 3
   },
   "file_extension": ".py",
   "mimetype": "text/x-python",
   "name": "python",
   "nbconvert_exporter": "python",
   "pygments_lexer": "ipython3",
   "version": "3.12.0"
  }
 },
 "nbformat": 4,
 "nbformat_minor": 5
}
