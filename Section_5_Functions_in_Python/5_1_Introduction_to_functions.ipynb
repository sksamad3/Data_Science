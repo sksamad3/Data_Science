{
 "cells": [
  {
   "cell_type": "code",
   "execution_count": null,
   "metadata": {},
   "outputs": [],
   "source": []
  },
  {
   "cell_type": "code",
   "execution_count": null,
   "metadata": {},
   "outputs": [],
   "source": []
  },
  {
   "cell_type": "markdown",
   "id": "595ecdaa",
   "metadata": {},
   "source": [
    "#### Functions in Python "
   ]
  },
  {
   "cell_type": "code",
   "execution_count": null,
   "id": "b844c09a",
   "metadata": {},
   "outputs": [],
   "source": [
    "# Syntax of functions \n",
    "def function_name(parameters): \n",
    "    \"\"\"Doc String \"\"\" #(Optional)\n",
    "    # Function body \n",
    "    return expression "
   ]
  },
  {
   "cell_type": "code",
   "execution_count": 2,
   "id": "78d0ea48",
   "metadata": {},
   "outputs": [],
   "source": [
    "# Function to determine whether a no. is odd or even \n",
    "def even_or_odd(num):\n",
    "\n",
    "    \"\"\"Determines whether a number is odd or even \"\"\"\n",
    "    if num%2==0: \n",
    "        print(f\"{num} is an even number. \")\n",
    "    else: \n",
    "        print(f\"{num} is an odd number.\")"
   ]
  },
  {
   "cell_type": "code",
   "execution_count": 7,
   "id": "20b2c639",
   "metadata": {},
   "outputs": [
    {
     "name": "stdout",
     "output_type": "stream",
     "text": [
      "54 is an even number. \n"
     ]
    }
   ],
   "source": [
    "# Calling the function\n",
    "even_or_odd(54)"
   ]
  },
  {
   "cell_type": "code",
   "execution_count": 8,
   "id": "f53e291d",
   "metadata": {},
   "outputs": [
    {
     "name": "stdout",
     "output_type": "stream",
     "text": [
      "Sum of 2 and 4 is :  6\n"
     ]
    }
   ],
   "source": [
    "# Function with multiple parameters \n",
    "# A function that takes two numbers and returns their sum\n",
    "\n",
    "def add(a,b): \n",
    "    return a+b\n",
    "\n",
    "result = add(2,4)\n",
    "print(\"Sum of 2 and 4 is : \",result)"
   ]
  },
  {
   "cell_type": "code",
   "execution_count": null,
   "id": "6350f38e",
   "metadata": {},
   "outputs": [
    {
     "name": "stdout",
     "output_type": "stream",
     "text": [
      "Hi Samad , Welcome. \n"
     ]
    }
   ],
   "source": [
    "# A greet function\n",
    "def greet(name): \n",
    "    print(f\"Hi {name} , Welcome. \")\n",
    "\n",
    "# Calling the function\n",
    "greet(\"Samad\")\n"
   ]
  },
  {
   "cell_type": "code",
   "execution_count": 15,
   "id": "8697fc18",
   "metadata": {},
   "outputs": [
    {
     "name": "stdout",
     "output_type": "stream",
     "text": [
      "Hi Samad , Welcome Home. \n",
      "Hi Guest , Welcome Home. \n"
     ]
    }
   ],
   "source": [
    "# Greeting function with default parameter \n",
    "def greet2(name=\"Guest\"): \n",
    "    print(f\"Hi {name} , Welcome Home. \")\n",
    "\n",
    "# Calling the function \n",
    "greet2(\"Samad\")\n",
    "greet2() # Output : \"Hi Guest , Welcome Home.\""
   ]
  },
  {
   "cell_type": "code",
   "execution_count": null,
   "id": "67ade976",
   "metadata": {},
   "outputs": [
    {
     "name": "stdout",
     "output_type": "stream",
     "text": [
      "1\n",
      "2\n",
      "3\n",
      "4\n",
      "5\n",
      "6\n",
      "True\n",
      "Samad\n",
      "4.3\n"
     ]
    }
   ],
   "source": [
    "# Implementing Positional Arguments \n",
    "# Positional arguments *args is for when you don't know how many positional values someone might pass — so you collect them all.\n",
    "def print_numbers(*numbers): \n",
    "    for number in numbers: \n",
    "        print(number)\n",
    "\n",
    "# calling the function\n",
    "print_numbers(1,2,3,4,5,6,True,\"Samad\",4.3)"
   ]
  },
  {
   "cell_type": "code",
   "execution_count": null,
   "id": "21bd5254",
   "metadata": {},
   "outputs": [],
   "source": [
    "# Implementing Keyword Arguments \n",
    "# Keyword arguments means that the order of parameters doesn't needs to be same , u just specify the the parameter and the value to put , even if you don't provide value of an argument then default value is there\n",
    "#Keyword arguments allow you to pass values to function parameters by explicitly naming them. This removes the need to follow a specific order, and if a parameter has a default value, you can skip providing it — the default will be used.\"\n",
    "\n",
    "# Keyword argument says that \n",
    "# Hey user, you can tell me exactly which value goes into which parameter — you don’t need to remember the order , in which sequence you have to pass arguments !\n",
    "def print_details(**kwargs): \n",
    "    for key,value in kwargs.items(): \n",
    "        print(f\"{key} : {value}\")"
   ]
  },
  {
   "cell_type": "code",
   "execution_count": 3,
   "id": "9d73a86d",
   "metadata": {},
   "outputs": [
    {
     "name": "stdout",
     "output_type": "stream",
     "text": [
      "name : Samad\n",
      "id : 54\n",
      "age : 20\n",
      "role : Data Analyst\n"
     ]
    }
   ],
   "source": [
    "print_details(name=\"Samad\", id = \"54\" , age = \"20\" , role = \"Data Analyst\")"
   ]
  },
  {
   "cell_type": "code",
   "execution_count": 4,
   "id": "191a79d4",
   "metadata": {},
   "outputs": [],
   "source": [
    "def print_all(*args,**kwargs): \n",
    "    for i in args: \n",
    "        print(\"Positional Arguments : \",i)\n",
    "    \n",
    "    for key,value in kwargs.items(): \n",
    "        print(f\"{key} : {value}\")"
   ]
  },
  {
   "cell_type": "code",
   "execution_count": 5,
   "id": "98dbcbc6",
   "metadata": {},
   "outputs": [
    {
     "name": "stdout",
     "output_type": "stream",
     "text": [
      "Positional Arguments :  1\n",
      "Positional Arguments :  2\n",
      "Positional Arguments :  3\n",
      "Positional Arguments :  Ilaf\n",
      "Positional Arguments :  True\n",
      "name : Samad\n",
      "id : 54\n",
      "age : 20\n",
      "role : Data Analyst\n"
     ]
    }
   ],
   "source": [
    "print_all(1, 2, 3, \"Ilaf\" , True ,name=\"Samad\", id = \"54\" , age = \"20\" , role = \"Data Analyst\")"
   ]
  },
  {
   "cell_type": "code",
   "execution_count": 1,
   "id": "334ac863",
   "metadata": {},
   "outputs": [
    {
     "data": {
      "text/plain": [
       "(6, 2)"
      ]
     },
     "execution_count": 1,
     "metadata": {},
     "output_type": "execute_result"
    }
   ],
   "source": [
    "# Function returning multiple values / results \n",
    "def mul(a,b):\n",
    "    return a*b,a\n",
    "\n",
    "mul(2,3)"
   ]
  },
  {
   "cell_type": "code",
   "execution_count": null,
   "id": "16a90021",
   "metadata": {},
   "outputs": [],
   "source": []
  }
 ],
 "metadata": {
  "kernelspec": {
   "display_name": "Python 3",
   "language": "python",
   "name": "python3"
  },
  "language_info": {
   "codemirror_mode": {
    "name": "ipython",
    "version": 3
   },
   "file_extension": ".py",
   "mimetype": "text/x-python",
   "name": "python",
   "nbconvert_exporter": "python",
   "pygments_lexer": "ipython3",
   "version": "3.12.0"
  }
 },
 "nbformat": 4,
 "nbformat_minor": 5
}
