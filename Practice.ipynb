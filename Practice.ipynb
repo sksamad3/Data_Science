{
 "cells": [
  {
   "cell_type": "markdown",
   "id": "38f3fcb7",
   "metadata": {},
   "source": [
    "### Practice File \n"
   ]
  },
  {
   "cell_type": "markdown",
   "id": "2931a2d0",
   "metadata": {},
   "source": []
  }
 ],
 "metadata": {
  "kernelspec": {
   "display_name": "Python 3",
   "language": "python",
   "name": "python3"
  },
  "language_info": {
   "name": "python",
   "version": "3.12.0"
  }
 },
 "nbformat": 4,
 "nbformat_minor": 5
}
