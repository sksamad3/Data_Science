{
 "cells": [
  {
   "cell_type": "markdown",
   "id": "9dd851b3",
   "metadata": {},
   "source": [
    "### Learning Competencies :\n",
    "1. Introduction to Operators\n",
    "2. Arithmetic Operators\n",
    "   - Addition\n",
    "   - Subtraction\n",
    "   - Multiplication\n",
    "   - Division\n",
    "   - Floor Division\n",
    "   - Modulus\n",
    "   - Exponentiation\n",
    "3. Comparison Operators\n",
    "   - Equal to\n",
    "   - Not equal to\n",
    "   - Greater than\n",
    "   - Less than\n",
    "   - Greater than or equal to \n",
    "   - Less than or equal to\n",
    "4. Logical Operators\n",
    "   - AND\n",
    "   - OR\n",
    "   - NOT\n",
    "5. Practical Examples and Common Errors"
   ]
  },
  {
   "cell_type": "code",
   "execution_count": 3,
   "id": "dbc5cbd9",
   "metadata": {},
   "outputs": [
    {
     "name": "stdout",
     "output_type": "stream",
     "text": [
      "Addition :  15\n",
      "Subtraction :  5\n",
      "Multiplication :  50\n",
      "Division  :  2.0\n",
      "Floor Division :  2\n",
      "Modulus  :  0\n",
      "Exponential  :  100000\n"
     ]
    }
   ],
   "source": [
    "# 1. Addition \n",
    "\n",
    "a = 10 \n",
    "b = 5 \n",
    "\n",
    "add_result = a+b # Addition\n",
    "sub_result = a-b # subtraction \n",
    "mul_result = a*b # Multiplication\n",
    "div_result = a/b # Division \n",
    "floor_div = a//b # Floor Division \n",
    "modulus_result = a%b  # Modulus Operation \n",
    "exponent_result = a**b # Exponential \n",
    "print(\"Addition : \",add_result)\n",
    "print(\"Subtraction : \",sub_result)\n",
    "print(\"Multiplication : \",mul_result)\n",
    "print(\"Division  : \",div_result)\n",
    "print(\"Floor Division : \",floor_div)\n",
    "print(\"Modulus  : \",modulus_result)\n",
    "print(\"Exponential  : \",exponent_result)"
   ]
  },
  {
   "cell_type": "code",
   "execution_count": null,
   "id": "74997e87",
   "metadata": {},
   "outputs": [
    {
     "data": {
      "text/plain": [
       "True"
      ]
     },
     "execution_count": 4,
     "metadata": {},
     "output_type": "execute_result"
    }
   ],
   "source": [
    "# Comparison Operator\n",
    "\n",
    "# 1. Equals operator\n",
    "a = 10 \n",
    "b = 10 \n",
    "a==b"
   ]
  },
  {
   "cell_type": "code",
   "execution_count": 6,
   "id": "fc540937",
   "metadata": {},
   "outputs": [
    {
     "data": {
      "text/plain": [
       "False"
      ]
     },
     "execution_count": 6,
     "metadata": {},
     "output_type": "execute_result"
    }
   ],
   "source": [
    "# 2. != Not Equals Operator \n",
    "str = \"Krish\"\n",
    "str2 = \"Krsh\"\n",
    "str==str2"
   ]
  },
  {
   "cell_type": "code",
   "execution_count": 8,
   "id": "f263e05d",
   "metadata": {},
   "outputs": [
    {
     "data": {
      "text/plain": [
       "False"
      ]
     },
     "execution_count": 8,
     "metadata": {},
     "output_type": "execute_result"
    }
   ],
   "source": [
    "# 3. Greater than Operator\n",
    "num1 = 45 \n",
    "num2 = 55 \n",
    "num1 > num2"
   ]
  },
  {
   "cell_type": "code",
   "execution_count": 9,
   "id": "0bcf40ca",
   "metadata": {},
   "outputs": [
    {
     "data": {
      "text/plain": [
       "True"
      ]
     },
     "execution_count": 9,
     "metadata": {},
     "output_type": "execute_result"
    }
   ],
   "source": [
    "# 4. Less than Operator\n",
    "num1 < num2"
   ]
  },
  {
   "cell_type": "code",
   "execution_count": 10,
   "id": "41b3b847",
   "metadata": {},
   "outputs": [
    {
     "data": {
      "text/plain": [
       "True"
      ]
     },
     "execution_count": 10,
     "metadata": {},
     "output_type": "execute_result"
    }
   ],
   "source": [
    "# 5. Greater than or equals to \n",
    "n1 = 45 \n",
    "n2 = 45 \n",
    "n1>=n2"
   ]
  },
  {
   "cell_type": "code",
   "execution_count": 13,
   "id": "e2911e74",
   "metadata": {},
   "outputs": [
    {
     "name": "stdout",
     "output_type": "stream",
     "text": [
      "False\n",
      "True\n",
      "False\n"
     ]
    }
   ],
   "source": [
    "# Logical Operators \n",
    "x = True\n",
    "y = False\n",
    "print(x and y)\n",
    "print(x or y)\n",
    "print(not x)"
   ]
  },
  {
   "cell_type": "code",
   "execution_count": null,
   "id": "b55d97e5",
   "metadata": {},
   "outputs": [],
   "source": []
  }
 ],
 "metadata": {
  "kernelspec": {
   "display_name": "Python 3",
   "language": "python",
   "name": "python3"
  },
  "language_info": {
   "codemirror_mode": {
    "name": "ipython",
    "version": 3
   },
   "file_extension": ".py",
   "mimetype": "text/x-python",
   "name": "python",
   "nbconvert_exporter": "python",
   "pygments_lexer": "ipython3",
   "version": "3.12.0"
  }
 },
 "nbformat": 4,
 "nbformat_minor": 5
}
