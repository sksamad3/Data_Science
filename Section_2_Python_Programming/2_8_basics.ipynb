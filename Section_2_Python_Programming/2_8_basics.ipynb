{
 "cells": [
  {
   "cell_type": "code",
   "execution_count": 4,
   "id": "4a5fb138",
   "metadata": {},
   "outputs": [
    {
     "name": "stdout",
     "output_type": "stream",
     "text": [
      "Hello world \n"
     ]
    }
   ],
   "source": [
    "print(\"Hello world \")"
   ]
  },
  {
   "cell_type": "markdown",
   "id": "cfa66486",
   "metadata": {},
   "source": [
    "### 1. Comments in Python "
   ]
  },
  {
   "cell_type": "code",
   "execution_count": 7,
   "id": "3106cfdf",
   "metadata": {},
   "outputs": [],
   "source": [
    "# Single line comments are only supported in ipynb files \n",
    "# Multi line comments only work in .py files."
   ]
  },
  {
   "cell_type": "markdown",
   "id": "eff23f7f",
   "metadata": {},
   "source": [
    "### 2. Basic Syntax rules in Python"
   ]
  },
  {
   "cell_type": "code",
   "execution_count": 25,
   "id": "141b2f98",
   "metadata": {},
   "outputs": [],
   "source": [
    "# 1. Case Sensitivity \n",
    "# 2. Indentation (Define it)\n",
    "# 3. Line Continuation \n",
    "# 4. Multiple statements on a single line \n",
    "# 5. Type inference \n",
    "# 6. What is name error"
   ]
  },
  {
   "cell_type": "code",
   "execution_count": 15,
   "id": "d1efcaed",
   "metadata": {},
   "outputs": [
    {
     "name": "stdout",
     "output_type": "stream",
     "text": [
      "55\n"
     ]
    }
   ],
   "source": [
    "# Line Continuation \n",
    "a = 1+2+3+4+5+ \\\n",
    "    6+7+8+9+10\n",
    "print(a)"
   ]
  },
  {
   "cell_type": "code",
   "execution_count": 16,
   "id": "b21e2a0d",
   "metadata": {},
   "outputs": [
    {
     "name": "stdout",
     "output_type": "stream",
     "text": [
      "10\n"
     ]
    }
   ],
   "source": [
    "# Multiple statements on a single line \n",
    "f = 5 ; h = 5 ; j = f+h ; print(j)"
   ]
  },
  {
   "cell_type": "code",
   "execution_count": 18,
   "id": "3ce5ae7b",
   "metadata": {},
   "outputs": [
    {
     "name": "stdout",
     "output_type": "stream",
     "text": [
      "<class 'int'>\n",
      "<class 'str'>\n"
     ]
    }
   ],
   "source": [
    "# Type Inference \n",
    "var = 10 \n",
    "print(type(var))\n",
    "var = \"Samad\"\n",
    "print(type(var))"
   ]
  },
  {
   "cell_type": "code",
   "execution_count": null,
   "id": "f1f8ecf6",
   "metadata": {},
   "outputs": [
    {
     "ename": "NameError",
     "evalue": "name 'b' is not defined",
     "output_type": "error",
     "traceback": [
      "\u001b[31m---------------------------------------------------------------------------\u001b[39m",
      "\u001b[31mNameError\u001b[39m                                 Traceback (most recent call last)",
      "\u001b[36mCell\u001b[39m\u001b[36m \u001b[39m\u001b[32mIn[19]\u001b[39m\u001b[32m, line 1\u001b[39m\n\u001b[32m----> \u001b[39m\u001b[32m1\u001b[39m a = \u001b[43mb\u001b[49m \n",
      "\u001b[31mNameError\u001b[39m: name 'b' is not defined"
     ]
    }
   ],
   "source": [
    "# This will give you a name error because b is not defined . \n",
    "a = b \n"
   ]
  },
  {
   "cell_type": "code",
   "execution_count": 24,
   "id": "60650742",
   "metadata": {},
   "outputs": [
    {
     "name": "stdout",
     "output_type": "stream",
     "text": [
      "Correct Indentation\n",
      "This will print\n",
      "Outside the if block \n"
     ]
    }
   ],
   "source": [
    "## Indendation code example \n",
    "if True: \n",
    "    print(\"Correct Indentation\")\n",
    "    if False: \n",
    "        print(\"This wont\\'t print \")\n",
    "    print(\"This will print\")\n",
    "print(\"Outside the if block \")"
   ]
  },
  {
   "cell_type": "code",
   "execution_count": null,
   "id": "c5e92141",
   "metadata": {},
   "outputs": [],
   "source": []
  }
 ],
 "metadata": {
  "kernelspec": {
   "display_name": "Python 3",
   "language": "python",
   "name": "python3"
  },
  "language_info": {
   "codemirror_mode": {
    "name": "ipython",
    "version": 3
   },
   "file_extension": ".py",
   "mimetype": "text/x-python",
   "name": "python",
   "nbconvert_exporter": "python",
   "pygments_lexer": "ipython3",
   "version": "3.12.0"
  }
 },
 "nbformat": 4,
 "nbformat_minor": 5
}
