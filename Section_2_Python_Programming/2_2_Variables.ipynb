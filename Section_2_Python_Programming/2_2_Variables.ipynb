{
 "cells": [
  {
   "cell_type": "markdown",
   "id": "24618c97",
   "metadata": {},
   "source": [
    "### Competencies"
   ]
  },
  {
   "cell_type": "markdown",
   "id": "58fdaa06",
   "metadata": {},
   "source": [
    "1. Declaring and Assigning variables \n",
    "2. Naming Conventions\n",
    "3. Data Types \n",
    "4. Type Checking and Conversion\n",
    "5. Dynamic Typing\n",
    "6. User Input "
   ]
  },
  {
   "cell_type": "code",
   "execution_count": null,
   "id": "d986607c",
   "metadata": {},
   "outputs": [
    {
     "name": "stdout",
     "output_type": "stream",
     "text": [
      "Name :  Samad\n",
      "Age :  20\n",
      "Height :  6.4\n"
     ]
    }
   ],
   "source": [
    "# 1. Declaring and Assigning Variables \n",
    "age = 20 \n",
    "height = 6.4\n",
    "name = \"Samad\"\n",
    "is_student = True\n",
    "\n",
    "\n",
    "# Printing variables \n",
    "print(\"Name : \",name)\n",
    "print(\"Age : \",age)\n",
    "print(\"Height : \",height)\n",
    "\n"
   ]
  },
  {
   "cell_type": "code",
   "execution_count": null,
   "id": "695235fe",
   "metadata": {},
   "outputs": [
    {
     "name": "stdout",
     "output_type": "stream",
     "text": [
      "<class 'int'>\n",
      "<class 'str'>\n",
      "<class 'str'>\n",
      "<class 'float'>\n",
      "<class 'bool'>\n"
     ]
    }
   ],
   "source": [
    "# 2. Data Types \n",
    "id = 12\n",
    "s_name = \"Ilaf\"\n",
    "role = \"Developer\"\n",
    "salary = 5.4 \n",
    "is_female = True\n",
    "\n",
    "# 3. Type Checking / Printing their types \n",
    "print(type(id))\n",
    "print(type(s_name))\n",
    "print(type(role))\n",
    "print(type(salary))\n",
    "print(type(is_female))\n"
   ]
  },
  {
   "cell_type": "code",
   "execution_count": null,
   "id": "1a37e200",
   "metadata": {},
   "outputs": [
    {
     "name": "stdout",
     "output_type": "stream",
     "text": [
      "<class 'str'>\n",
      "<class 'int'>\n"
     ]
    }
   ],
   "source": [
    "# Data Type Conversion \n",
    "\n",
    "# Converting string to int , where string contains a numerical value  \n",
    "age2 = \"53\"\n",
    "print(type(age2))\n",
    "age3 = int(age2)\n",
    "print(type(age3))"
   ]
  },
  {
   "cell_type": "code",
   "execution_count": null,
   "id": "6c2aa8b3",
   "metadata": {},
   "outputs": [
    {
     "name": "stdout",
     "output_type": "stream",
     "text": [
      "<class 'str'>\n"
     ]
    },
    {
     "ename": "ValueError",
     "evalue": "invalid literal for int() with base 10: 'samad'",
     "output_type": "error",
     "traceback": [
      "\u001b[31m---------------------------------------------------------------------------\u001b[39m",
      "\u001b[31mValueError\u001b[39m                                Traceback (most recent call last)",
      "\u001b[36mCell\u001b[39m\u001b[36m \u001b[39m\u001b[32mIn[6]\u001b[39m\u001b[32m, line 3\u001b[39m\n\u001b[32m      1\u001b[39m fname = \u001b[33m\"\u001b[39m\u001b[33msamad\u001b[39m\u001b[33m\"\u001b[39m\n\u001b[32m      2\u001b[39m \u001b[38;5;28mprint\u001b[39m(\u001b[38;5;28mtype\u001b[39m(fname))\n\u001b[32m----> \u001b[39m\u001b[32m3\u001b[39m new_name = \u001b[38;5;28;43mint\u001b[39;49m\u001b[43m(\u001b[49m\u001b[43mfname\u001b[49m\u001b[43m)\u001b[49m\n",
      "\u001b[31mValueError\u001b[39m: invalid literal for int() with base 10: 'samad'"
     ]
    }
   ],
   "source": [
    "fname = \"samad\"\n",
    "print(type(fname))\n",
    "# Can't convert string to int where string contains a string value \n",
    "new_name = int(fname)"
   ]
  },
  {
   "cell_type": "code",
   "execution_count": 2,
   "id": "c8397b57",
   "metadata": {},
   "outputs": [
    {
     "name": "stdout",
     "output_type": "stream",
     "text": [
      "10 <class 'int'>\n",
      "Hello <class 'str'>\n",
      "3.9 <class 'float'>\n"
     ]
    }
   ],
   "source": [
    "# 5. Dynamic Typing \n",
    "var = 10 \n",
    "print(var , type(var))\n",
    "\n",
    "var = \"Hello\"\n",
    "print(var  , type(var))\n",
    "\n",
    "var = 3.9\n",
    "print(var , type(var))"
   ]
  },
  {
   "cell_type": "code",
   "execution_count": 4,
   "id": "75ea2114",
   "metadata": {},
   "outputs": [
    {
     "name": "stdout",
     "output_type": "stream",
     "text": [
      "543 <class 'int'>\n"
     ]
    }
   ],
   "source": [
    "a = int(input(\"Enter a nuber : \"))\n",
    "print(a,type(a))"
   ]
  },
  {
   "cell_type": "code",
   "execution_count": 5,
   "id": "f4681318",
   "metadata": {},
   "outputs": [
    {
     "name": "stdout",
     "output_type": "stream",
     "text": [
      "Sum :  55.0\n",
      "Difference :  45.0\n",
      "Multiply :  250.0\n",
      "Division :  10.0\n"
     ]
    }
   ],
   "source": [
    "# Creating my calculator \n",
    "num1 = float(input(\"Enter first number : \"))\n",
    "num2 = float(input(\"Enter second number : \"))\n",
    "\n",
    "\n",
    "sum = num1+num2\n",
    "difference = num1-num2\n",
    "multiply = num1*num2\n",
    "divide = num1/num2\n",
    "\n",
    "print(\"Sum : \",sum)\n",
    "print(\"Difference : \",difference)\n",
    "print(\"Multiply : \",multiply)\n",
    "print(\"Division : \",divide)\n"
   ]
  },
  {
   "cell_type": "code",
   "execution_count": null,
   "id": "bc0c462a",
   "metadata": {},
   "outputs": [],
   "source": []
  }
 ],
 "metadata": {
  "kernelspec": {
   "display_name": "Python 3",
   "language": "python",
   "name": "python3"
  },
  "language_info": {
   "codemirror_mode": {
    "name": "ipython",
    "version": 3
   },
   "file_extension": ".py",
   "mimetype": "text/x-python",
   "name": "python",
   "nbconvert_exporter": "python",
   "pygments_lexer": "ipython3",
   "version": "3.12.0"
  }
 },
 "nbformat": 4,
 "nbformat_minor": 5
}
