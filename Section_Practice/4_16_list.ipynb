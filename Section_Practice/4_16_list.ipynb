{
 "cells": [
  {
   "cell_type": "markdown",
   "id": "54541efa",
   "metadata": {},
   "source": [
    "# List in Python "
   ]
  },
  {
   "cell_type": "markdown",
   "id": "758fbe37",
   "metadata": {},
   "source": [
    "kdjfks"
   ]
  }
 ],
 "metadata": {
  "kernelspec": {
   "display_name": "venv",
   "language": "python",
   "name": "python3"
  },
  "language_info": {
   "name": "python",
   "version": "3.12.0"
  }
 },
 "nbformat": 4,
 "nbformat_minor": 5
}
