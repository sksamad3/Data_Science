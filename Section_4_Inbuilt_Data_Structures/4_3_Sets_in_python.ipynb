{
 "cells": [
  {
   "cell_type": "markdown",
   "id": "12172490",
   "metadata": {},
   "source": [
    "#### All about Sets "
   ]
  },
  {
   "cell_type": "code",
   "execution_count": 1,
   "id": "8ce04b07",
   "metadata": {},
   "outputs": [
    {
     "name": "stdout",
     "output_type": "stream",
     "text": [
      "<class 'set'>\n"
     ]
    }
   ],
   "source": [
    "st = {23, 3 ,56 ,323}\n",
    "print(type(st))"
   ]
  },
  {
   "cell_type": "code",
   "execution_count": 1,
   "id": "4a0ea203",
   "metadata": {},
   "outputs": [
    {
     "name": "stdout",
     "output_type": "stream",
     "text": [
      "<class 'set'>\n"
     ]
    }
   ],
   "source": [
    "my_empty_set = set(); \n",
    "print(type(my_empty_set))"
   ]
  },
  {
   "cell_type": "code",
   "execution_count": 2,
   "id": "b100d704",
   "metadata": {},
   "outputs": [
    {
     "name": "stdout",
     "output_type": "stream",
     "text": [
      "{1, 2, 3, 4, 5, 6, 7}\n",
      "<class 'set'>\n"
     ]
    }
   ],
   "source": [
    "my_set = set([1,2,3,4,5,6, 7])\n",
    "print(my_set)\n",
    "print(type(my_set))"
   ]
  },
  {
   "cell_type": "code",
   "execution_count": 1,
   "id": "6d375268",
   "metadata": {},
   "outputs": [
    {
     "name": "stdout",
     "output_type": "stream",
     "text": [
      "{2, 4, 6, 8, 10, 12, 14}\n"
     ]
    }
   ],
   "source": [
    "# Basic Set Operations \n",
    "# 1. Add operation \n",
    "set1 = set([2,4,6 ,8 , 10, 12 , 14 ])\n",
    "print(set1)"
   ]
  },
  {
   "cell_type": "code",
   "execution_count": 2,
   "id": "85ba346d",
   "metadata": {},
   "outputs": [
    {
     "name": "stdout",
     "output_type": "stream",
     "text": [
      "{2, 4, 6, 8, 10, 12, 14, 16}\n"
     ]
    }
   ],
   "source": [
    "# 1. Add Operation\n",
    "set1.add(16)\n",
    "print(set1)\n",
    "set1.add(16) # Tried to add same element '16' twice ,\n",
    "# set ignored it and inserted only once , so set don't allow duplicates "
   ]
  },
  {
   "cell_type": "code",
   "execution_count": 3,
   "id": "02188dc9",
   "metadata": {},
   "outputs": [
    {
     "name": "stdout",
     "output_type": "stream",
     "text": [
      "{2, 4, 6, 10, 12, 14, 16}\n"
     ]
    }
   ],
   "source": [
    "# 2. Removing an element\n",
    "# remove() method removes elements based on the specified elemen \n",
    "# set1 = set([2,4,6 ,8 , 10, 12 , 14 ])\n",
    "# Remove 8 from the set \n",
    "set1.remove(8) # Removes the element (8) from the set\n",
    "print(set1)"
   ]
  },
  {
   "cell_type": "code",
   "execution_count": 4,
   "id": "41992abc",
   "metadata": {},
   "outputs": [
    {
     "ename": "KeyError",
     "evalue": "20",
     "output_type": "error",
     "traceback": [
      "\u001b[31m---------------------------------------------------------------------------\u001b[39m",
      "\u001b[31mKeyError\u001b[39m                                  Traceback (most recent call last)",
      "\u001b[36mCell\u001b[39m\u001b[36m \u001b[39m\u001b[32mIn[4]\u001b[39m\u001b[32m, line 2\u001b[39m\n\u001b[32m      1\u001b[39m \u001b[38;5;66;03m# Trying to remove an element which is not present in the set \u001b[39;00m\n\u001b[32m----> \u001b[39m\u001b[32m2\u001b[39m \u001b[43mset1\u001b[49m\u001b[43m.\u001b[49m\u001b[43mremove\u001b[49m\u001b[43m(\u001b[49m\u001b[32;43m20\u001b[39;49m\u001b[43m)\u001b[49m \n",
      "\u001b[31mKeyError\u001b[39m: 20"
     ]
    }
   ],
   "source": [
    "# Trying to remove an element which is not present in the set \n",
    "set1.remove(20) "
   ]
  },
  {
   "cell_type": "code",
   "execution_count": 5,
   "id": "f54d02dc",
   "metadata": {},
   "outputs": [
    {
     "name": "stdout",
     "output_type": "stream",
     "text": [
      "{2, 4, 6, 10, 12, 14, 16}\n"
     ]
    }
   ],
   "source": [
    "# If you try to remove an element from a set which is not present in \n",
    "# in the set but you don't want to see error \n",
    "# You want if the element is present remove it \n",
    "# and if the element isn't present in the set then dont give any error \n",
    "# There we can use our discard method \n",
    "\n",
    "# set1 = set([2,4,6 ,8 , 10, 12 , 14 ])\n",
    "set1.discard(100)\n",
    "print(set1) # 100 is not in the set but python don't raise any error "
   ]
  },
  {
   "cell_type": "code",
   "execution_count": 7,
   "id": "9c5418a1",
   "metadata": {},
   "outputs": [],
   "source": [
    "even_set = set([1, 3, 5, 7 , 9 , 11 , 13, 15 , 17])"
   ]
  },
  {
   "cell_type": "code",
   "execution_count": 10,
   "id": "aeb785ab",
   "metadata": {},
   "outputs": [
    {
     "name": "stdout",
     "output_type": "stream",
     "text": [
      "5\n"
     ]
    }
   ],
   "source": [
    "removed_elements = even_set.pop()\n",
    "print(removed_elements)"
   ]
  },
  {
   "cell_type": "code",
   "execution_count": null,
   "id": "acdd2a4a",
   "metadata": {},
   "outputs": [],
   "source": [
    "# Clearing the \n",
    "# even_set.clear()\n",
    "# print(even_set)"
   ]
  },
  {
   "cell_type": "code",
   "execution_count": null,
   "id": "d3797fdb",
   "metadata": {},
   "outputs": [
    {
     "name": "stdout",
     "output_type": "stream",
     "text": [
      "False\n",
      "True\n"
     ]
    }
   ],
   "source": [
    "# Set Membership test \n",
    "# We can test to know whether an element is present in the set or not \n",
    "a_set = set([1,2,48 ,43, 89 , 89 , 24])\n",
    "print(54 in a_set) # Returns false because 54 is not in set \n",
    "print(24 in a_set) # Returns true because 24 is in set "
   ]
  },
  {
   "cell_type": "code",
   "execution_count": 14,
   "id": "d599fcb9",
   "metadata": {},
   "outputs": [],
   "source": [
    "# Set Mathematical Operations \n",
    "# 1. Union Operation\n",
    "set_A = set([1,2,3,4,5,6])\n",
    "set_B = set([4,5,6,7,8,9])\n",
    "union_set = set_A.union(set_B)"
   ]
  },
  {
   "cell_type": "code",
   "execution_count": 16,
   "id": "47a40330",
   "metadata": {},
   "outputs": [
    {
     "name": "stdout",
     "output_type": "stream",
     "text": [
      "{1, 2, 3, 4, 5, 6, 7, 8, 9}\n"
     ]
    }
   ],
   "source": [
    "print(union_set)"
   ]
  },
  {
   "cell_type": "code",
   "execution_count": 1,
   "id": "f8d91b1e",
   "metadata": {},
   "outputs": [
    {
     "name": "stdout",
     "output_type": "stream",
     "text": [
      "{4, 5, 6}\n"
     ]
    }
   ],
   "source": [
    "set_A = set([1,2,3,4,5,6])\n",
    "set_B = set([4,5,6,7,8,9])\n",
    "intersection_set = set_A.intersection(set_B)\n",
    "print(intersection_set)"
   ]
  },
  {
   "cell_type": "code",
   "execution_count": null,
   "id": "b5be8d29",
   "metadata": {},
   "outputs": [
    {
     "name": "stdout",
     "output_type": "stream",
     "text": [
      "{4, 5, 6}\n"
     ]
    }
   ],
   "source": [
    "# intersection() method returns the common elements among both the sets\n",
    "# intersection_update() actually updates the first set with the intersection elements\n",
    "# set_A = set([1,2,3,4,5,6])\n",
    "# set_B = set([4,5,6,7,8,9])\n",
    "\n",
    "set_A.intersection_update(set_B) # Updated the set 2 with intersection elements \n",
    "print(set_A) # Output : {4, 5 ,6}"
   ]
  },
  {
   "cell_type": "code",
   "execution_count": 1,
   "id": "4be199ec",
   "metadata": {},
   "outputs": [
    {
     "name": "stdout",
     "output_type": "stream",
     "text": [
      "{1, 2, 3}\n"
     ]
    }
   ],
   "source": [
    "# Difference \n",
    "set_C = set([1,2,3,4,5,6])\n",
    "set_D = set([4,5,6,7,8,9])\n",
    "\n",
    "diffe = set_C.difference(set_D)\n",
    "print(diffe) # difference() removes the elements of the second set and the common elements \n",
    "# in both the sets ,  "
   ]
  },
  {
   "cell_type": "code",
   "execution_count": null,
   "id": "f19c24a3",
   "metadata": {},
   "outputs": [
    {
     "name": "stdout",
     "output_type": "stream",
     "text": [
      "{1, 2, 3}\n"
     ]
    }
   ],
   "source": [
    "# difference_update \n",
    "set_C.difference_update(set_D)\n",
    "print(set_C) # difference_update updates the first set instead of returning"
   ]
  },
  {
   "cell_type": "code",
   "execution_count": null,
   "id": "df867fdf",
   "metadata": {},
   "outputs": [
    {
     "name": "stdout",
     "output_type": "stream",
     "text": [
      "{1, 2, 3, 7, 8, 9}\n"
     ]
    }
   ],
   "source": [
    "# symmetric difference \n",
    "set_C = set([1,2,3,4,5,6])\n",
    "set_D = set([4,5,6,7,8,9])\n",
    "sd = set_C.symmetric_difference(set_D)\n",
    "print(sd) # symmetric difference removes the common elements from both the sets and display all other elements which are uncommon"
   ]
  },
  {
   "cell_type": "code",
   "execution_count": null,
   "id": "8ebaae7b",
   "metadata": {},
   "outputs": [
    {
     "name": "stdout",
     "output_type": "stream",
     "text": [
      "True\n"
     ]
    }
   ],
   "source": [
    "# Validation Operations on sets \n",
    "# 1. issubset()\n",
    "set_X = {1, 2 ,3 ,4 , 5 , 6 , 7 , 8 , 9 , 10}\n",
    "set_Y = {4, 5, 6, 7 , 8 , 9}\n",
    "\n",
    "# This means that (set_Y is a subset of set_X ) Output : True\n",
    "print(set_Y.issubset(set_X)) "
   ]
  },
  {
   "cell_type": "code",
   "execution_count": null,
   "id": "b06d0130",
   "metadata": {},
   "outputs": [
    {
     "name": "stdout",
     "output_type": "stream",
     "text": [
      "True\n"
     ]
    }
   ],
   "source": [
    "# 2. issuperset()\n",
    "# This means that (set_X is a superset of set_Y+)\n",
    "print(set_X.issuperset(set_Y))"
   ]
  },
  {
   "cell_type": "code",
   "execution_count": null,
   "id": "96391f73",
   "metadata": {},
   "outputs": [],
   "source": [
    "# Counting unique words in a sentence \n",
    "### Counting Unique words in text\n",
    "\n",
    "text=\"In this tutorial we are discussing about sets\"\n",
    "words=text.split()\n",
    "\n",
    "## convert list of words to set to get unique words\n",
    "\n",
    "unique_words=set(words)\n",
    "print(unique_words)\n",
    "print(len(unique_words))"
   ]
  },
  {
   "cell_type": "code",
   "execution_count": null,
   "id": "3feb47b9",
   "metadata": {},
   "outputs": [],
   "source": []
  }
 ],
 "metadata": {
  "kernelspec": {
   "display_name": "Python 3",
   "language": "python",
   "name": "python3"
  },
  "language_info": {
   "codemirror_mode": {
    "name": "ipython",
    "version": 3
   },
   "file_extension": ".py",
   "mimetype": "text/x-python",
   "name": "python",
   "nbconvert_exporter": "python",
   "pygments_lexer": "ipython3",
   "version": "3.12.7"
  }
 },
 "nbformat": 4,
 "nbformat_minor": 5
}
