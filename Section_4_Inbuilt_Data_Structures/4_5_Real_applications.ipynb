{
 "cells": [
  {
   "cell_type": "markdown",
   "id": "bebe7dd7",
   "metadata": {},
   "source": [
    "#### Real applications of Inbuilt data structures "
   ]
  },
  {
   "cell_type": "code",
   "execution_count": null,
   "id": "4ad41edc",
   "metadata": {},
   "outputs": [
    {
     "name": "stdout",
     "output_type": "stream",
     "text": [
      "['Drink water', 'Complete a tutorial', 'Read 5 pages', 'Create a dashboard']\n"
     ]
    }
   ],
   "source": [
    "##### 1. Manage a To-do list \n",
    "tasks = [\"Drink water\" , \"Complete a tutorial\" , \"Read 5 pages\", \"Create a dashboard\"]"
   ]
  },
  {
   "cell_type": "code",
   "execution_count": 2,
   "id": "e89c7fc9",
   "metadata": {},
   "outputs": [],
   "source": [
    "tasks.append(\"Buy Groceries \")"
   ]
  },
  {
   "cell_type": "code",
   "execution_count": 3,
   "id": "1ad30107",
   "metadata": {},
   "outputs": [],
   "source": [
    "tasks.append(\"Prepare an Apple Pie\")"
   ]
  },
  {
   "cell_type": "code",
   "execution_count": 4,
   "id": "6a6379ff",
   "metadata": {},
   "outputs": [
    {
     "name": "stdout",
     "output_type": "stream",
     "text": [
      "['Drink water', 'Complete a tutorial', 'Read 5 pages', 'Create a dashboard', 'Buy Groceries ', 'Prepare an Apple Pie']\n"
     ]
    }
   ],
   "source": [
    "print(tasks)"
   ]
  },
  {
   "cell_type": "code",
   "execution_count": 5,
   "id": "522e06cd",
   "metadata": {},
   "outputs": [],
   "source": [
    "# Removing completed tasks \n",
    "tasks.remove(\"Drink water\")"
   ]
  },
  {
   "cell_type": "code",
   "execution_count": 10,
   "id": "6a666fc5",
   "metadata": {},
   "outputs": [
    {
     "name": "stdout",
     "output_type": "stream",
     "text": [
      "Don't forget to read 5 pages\n",
      "\n",
      "Remaining to do list\n",
      "\n",
      "Complete a tutorial\n",
      "Read 5 pages\n",
      "Create a dashboard\n",
      "Buy Groceries \n",
      "Prepare an Apple Pie\n"
     ]
    }
   ],
   "source": [
    "if \"Read 5 pages\" in tasks: \n",
    "    print(\"Don\\'t forget to read 5 pages\")\n",
    "\n",
    "print()\n",
    "print(\"Remaining to do list\")\n",
    "print()\n",
    "for task in tasks: \n",
    "    print(f\"{task}\")"
   ]
  },
  {
   "cell_type": "markdown",
   "id": "62b46060",
   "metadata": {},
   "source": [
    "#### 2. Organizing of student grades "
   ]
  },
  {
   "cell_type": "code",
   "execution_count": 12,
   "id": "410eb307",
   "metadata": {},
   "outputs": [
    {
     "name": "stdout",
     "output_type": "stream",
     "text": [
      "[85, 92, 78, 90, 88]\n"
     ]
    }
   ],
   "source": [
    "grades = [85, 92, 78, 90, 88]\n",
    "print(grades)"
   ]
  },
  {
   "cell_type": "code",
   "execution_count": 16,
   "id": "6ed9443e",
   "metadata": {},
   "outputs": [
    {
     "name": "stdout",
     "output_type": "stream",
     "text": [
      "Average : 86.6\n",
      "Max  : 92\n",
      "Min  : 78\n"
     ]
    }
   ],
   "source": [
    "avg_grade = (85+92+78+90+88)/len(grades)\n",
    "max_grade = max(grades)\n",
    "min_grade = min(grades)\n",
    "print(f\"Average : {avg_grade}\")\n",
    "print(f\"Max  : {max_grade}\")\n",
    "print(f\"Min  : {min_grade}\")\n",
    "\n"
   ]
  },
  {
   "cell_type": "code",
   "execution_count": null,
   "id": "c4cb29c4",
   "metadata": {},
   "outputs": [],
   "source": [
    "#### Managing Inventory \n",
    "inventory = [\"apples\", \"bananas\", \"oranges\", \"grapes\"]\n",
    "\n",
    "# Appending elements \n",
    "inventory.append(\"blueberry\")\n",
    "inventory.append(\"jackfruit\")"
   ]
  },
  {
   "cell_type": "code",
   "execution_count": 18,
   "id": "7cc1606b",
   "metadata": {},
   "outputs": [
    {
     "name": "stdout",
     "output_type": "stream",
     "text": [
      "Oranges are in stock\n"
     ]
    }
   ],
   "source": [
    "# checking the stock \n",
    "if \"oranges\" in inventory: \n",
    "    print(\"Oranges are in stock\")\n",
    "else: \n",
    "    print(\"Oranges out of stock\")"
   ]
  },
  {
   "cell_type": "code",
   "execution_count": 19,
   "id": "9823ffae",
   "metadata": {},
   "outputs": [
    {
     "name": "stdout",
     "output_type": "stream",
     "text": [
      "Printing the Inventory\n",
      "-apples\n",
      "-bananas\n",
      "-oranges\n",
      "-grapes\n",
      "-blueberry\n",
      "-jackfruit\n"
     ]
    }
   ],
   "source": [
    "print(\"Printing the Inventory\")\n",
    "for fruits in inventory: \n",
    "    print(f\"-{fruits}\")"
   ]
  },
  {
   "cell_type": "markdown",
   "id": "700f3037",
   "metadata": {},
   "source": [
    "#### 4. Collecting User Feedback"
   ]
  },
  {
   "cell_type": "code",
   "execution_count": 21,
   "id": "db68c9cd",
   "metadata": {},
   "outputs": [],
   "source": [
    "feedback = [\"Great service!\", \"Very satisfied\", \"Could be better\", \"Excellent experience\"]"
   ]
  },
  {
   "cell_type": "code",
   "execution_count": 26,
   "id": "7c8d42aa",
   "metadata": {},
   "outputs": [
    {
     "name": "stdout",
     "output_type": "stream",
     "text": [
      "Positive Feedback count : 2\n"
     ]
    }
   ],
   "source": [
    "feedback.append(\"Not happy with the service \")\n",
    "positive_feedback = sum(1 for comment in feedback if \"great\" in comment.lower() or \"excellent\" in comment.lower())\n",
    "print(f\"Positive Feedback count : {positive_feedback}\")"
   ]
  },
  {
   "cell_type": "code",
   "execution_count": 27,
   "id": "575281a8",
   "metadata": {},
   "outputs": [
    {
     "name": "stdout",
     "output_type": "stream",
     "text": [
      "Feedback \n",
      "-Great service!\n",
      "-Very satisfied\n",
      "-Could be better\n",
      "-Excellent experience\n",
      "-Not happy with the service \n",
      "-Not happy with the service \n"
     ]
    }
   ],
   "source": [
    "# Printing the comments \n",
    "print(\"Feedback \")\n",
    "for comment in feedback: \n",
    "    print(f\"-{comment}\")\n"
   ]
  },
  {
   "cell_type": "code",
   "execution_count": null,
   "id": "cfa545a7",
   "metadata": {},
   "outputs": [],
   "source": []
  }
 ],
 "metadata": {
  "kernelspec": {
   "display_name": "Python 3",
   "language": "python",
   "name": "python3"
  },
  "language_info": {
   "codemirror_mode": {
    "name": "ipython",
    "version": 3
   },
   "file_extension": ".py",
   "mimetype": "text/x-python",
   "name": "python",
   "nbconvert_exporter": "python",
   "pygments_lexer": "ipython3",
   "version": "3.12.0"
  }
 },
 "nbformat": 4,
 "nbformat_minor": 5
}
