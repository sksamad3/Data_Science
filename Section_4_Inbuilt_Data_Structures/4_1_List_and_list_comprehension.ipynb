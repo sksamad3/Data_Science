{
 "cells": [
  {
   "cell_type": "markdown",
   "id": "f180b4e7",
   "metadata": {},
   "source": [
    "#### All about Lists in Python\n",
    "\n",
    "##### Methods\n",
    "- 1. insert()\n",
    "- 2. Slicing\n",
    "- 3. append()\n",
    "- 4. remove()\n",
    "- 5. pop()\n",
    "- 6. index()\n",
    "- 7. sort()\n",
    "- 8. reverse()\n"
   ]
  },
  {
   "cell_type": "code",
   "execution_count": null,
   "id": "a9e95d46",
   "metadata": {},
   "outputs": [],
   "source": [
    "lst = []\n",
    "print(type(lst))"
   ]
  },
  {
   "cell_type": "code",
   "execution_count": null,
   "id": "1293dcfa",
   "metadata": {},
   "outputs": [],
   "source": [
    "data = [\"Samad\" , \"Hamza\" ,\"Umar\", \"Usman\" , True , False , True, 1 , 23, 5, 2, 10]\n",
    "print(data)"
   ]
  },
  {
   "cell_type": "code",
   "execution_count": null,
   "id": "9641e722",
   "metadata": {},
   "outputs": [],
   "source": [
    "# Accessing list elements \n",
    "fruits = [\"apple\" , \"cherry\" , \"orange\" , \"guava\", \"kiwi\" , \"watermelon\", \"muskmelon\"]\n",
    "\n",
    "# printing 1st element\n",
    "print(fruits[0])\n",
    "\n",
    "# printing last element \n",
    "print(fruits[-1])"
   ]
  },
  {
   "cell_type": "code",
   "execution_count": null,
   "id": "6c234529",
   "metadata": {},
   "outputs": [],
   "source": [
    "# SLicing\n",
    "# Print from 2nd element till last element \n",
    "print(fruits[1:])"
   ]
  },
  {
   "cell_type": "code",
   "execution_count": null,
   "id": "fc12cc68",
   "metadata": {},
   "outputs": [],
   "source": [
    "# Print from orange to watermelon\n",
    "print(fruits[2:6])\n",
    "print(fruits[1:-1])"
   ]
  },
  {
   "cell_type": "code",
   "execution_count": null,
   "id": "7b142403",
   "metadata": {},
   "outputs": [],
   "source": [
    "# Print in reverse fashion \n",
    "# trying to print from last to first element , but slicing only works from left to right direction\n",
    "print(fruits[-1:1])"
   ]
  },
  {
   "cell_type": "code",
   "execution_count": null,
   "id": "0eb175d8",
   "metadata": {},
   "outputs": [],
   "source": [
    "print(fruits)"
   ]
  },
  {
   "cell_type": "code",
   "execution_count": null,
   "id": "1a2445b6",
   "metadata": {},
   "outputs": [],
   "source": [
    "# Modifying the list \n",
    "# Replace 'cherry' with 'plum'\n",
    "fruits[1] = \"plum\"\n",
    "fruits"
   ]
  },
  {
   "cell_type": "code",
   "execution_count": null,
   "id": "e77f52a0",
   "metadata": {},
   "outputs": [],
   "source": [
    "# LIst methods\n",
    "fruits = [\"apple\" , \"cherry\" , \"orange\" , \"guava\", \"kiwi\" , \"watermelon\", \"muskmelon\"]\n"
   ]
  },
  {
   "cell_type": "code",
   "execution_count": null,
   "id": "2b9cddb5",
   "metadata": {},
   "outputs": [],
   "source": [
    "veggies = [\"carrot \" , \"tomato \" , \"raddish\" , \"Ladyfingers\" , \"Potato\"]"
   ]
  },
  {
   "cell_type": "code",
   "execution_count": null,
   "id": "a2ae0a9e",
   "metadata": {},
   "outputs": [],
   "source": [
    "# Append Method\n",
    "veggies.append(\"brinjal\")\n",
    "print(veggies)"
   ]
  },
  {
   "cell_type": "code",
   "execution_count": null,
   "id": "ec531b58",
   "metadata": {},
   "outputs": [],
   "source": [
    "# Insert cucumber at 3rd index (in place of Ladyfingers) \n",
    "veggies.insert(3,\"cucumber\") # add cucumber and right shifts everyone\n",
    "print(veggies)"
   ]
  },
  {
   "cell_type": "code",
   "execution_count": null,
   "id": "d8caef98",
   "metadata": {},
   "outputs": [],
   "source": [
    "veggies.insert(3,\"cucumber\")\n",
    "print(veggies)"
   ]
  },
  {
   "cell_type": "code",
   "execution_count": null,
   "id": "de807fa7",
   "metadata": {},
   "outputs": [],
   "source": [
    "# Removing an element\n",
    "print(veggies[3])\n",
    "veggies.remove(\"cucumber\")\n",
    "print(veggies)"
   ]
  },
  {
   "cell_type": "code",
   "execution_count": null,
   "id": "1ad3c8da",
   "metadata": {},
   "outputs": [],
   "source": [
    "# Pop Method to remove last element\n",
    "popped_veggies = veggies.pop()\n",
    "print(popped_veggies)"
   ]
  },
  {
   "cell_type": "code",
   "execution_count": 1,
   "id": "f4a55785",
   "metadata": {},
   "outputs": [
    {
     "name": "stdout",
     "output_type": "stream",
     "text": [
      "4\n"
     ]
    }
   ],
   "source": [
    "veggies2 = [\"carrot \" , \"tomato \" , \"raddish\" , \"Ladyfingers\" , \"Potato\"]\n",
    "\n",
    "# Get the index of element \"cherry\"\n",
    "potato_index = veggies2.index(\"Potato\")\n",
    "print(potato_index)"
   ]
  },
  {
   "cell_type": "code",
   "execution_count": null,
   "id": "2af9afb2",
   "metadata": {},
   "outputs": [],
   "source": [
    "veggies2.insert(2,\"bittergourd\")\n",
    "veggies2.insert(2,\"bittergourd\")"
   ]
  },
  {
   "cell_type": "code",
   "execution_count": 7,
   "id": "6877ebc4",
   "metadata": {},
   "outputs": [],
   "source": [
    "veggies2.insert(2,\"bittergourd\")"
   ]
  },
  {
   "cell_type": "code",
   "execution_count": 10,
   "id": "1d03715e",
   "metadata": {},
   "outputs": [
    {
     "name": "stdout",
     "output_type": "stream",
     "text": [
      "3\n",
      "['carrot ', 'tomato ', 'bittergourd', 'bittergourd', 'bittergourd', 'raddish', 'Ladyfingers', 'Potato']\n"
     ]
    }
   ],
   "source": [
    "# Print the count of \"bittergourd\"\n",
    "count = veggies2.count(\"bittergourd\")\n",
    "print(count)\n",
    "print(veggies2)"
   ]
  },
  {
   "cell_type": "code",
   "execution_count": 14,
   "id": "a3d7ebbd",
   "metadata": {},
   "outputs": [
    {
     "name": "stdout",
     "output_type": "stream",
     "text": [
      "['Ladyfingers', 'Potato', 'bittergourd', 'bittergourd', 'bittergourd', 'carrot ', 'raddish', 'tomato ']\n"
     ]
    }
   ],
   "source": [
    "# Sort the list \"veggies2\"\n",
    "veggies2.sort()\n",
    "print(veggies2)"
   ]
  },
  {
   "cell_type": "code",
   "execution_count": 15,
   "id": "92ddc759",
   "metadata": {},
   "outputs": [
    {
     "name": "stdout",
     "output_type": "stream",
     "text": [
      "['tomato ', 'raddish', 'carrot ', 'bittergourd', 'bittergourd', 'bittergourd', 'Potato', 'Ladyfingers']\n"
     ]
    }
   ],
   "source": [
    "# Reverse the list \n",
    "veggies2.reverse()\n",
    "print(veggies2)"
   ]
  },
  {
   "cell_type": "code",
   "execution_count": 16,
   "id": "14b1ccda",
   "metadata": {},
   "outputs": [],
   "source": [
    "# Clear the list \n",
    "veggies2.clear()"
   ]
  },
  {
   "cell_type": "code",
   "execution_count": 17,
   "id": "3f8de9f0",
   "metadata": {},
   "outputs": [
    {
     "name": "stdout",
     "output_type": "stream",
     "text": [
      "[1, 2, 3, 4, 5, 6, 7, 8, 9, 10]\n"
     ]
    }
   ],
   "source": [
    "# All about Slicing List \n",
    "numbers = [1, 2 ,3 ,4 ,5 ,6 ,7 , 8 ,9 ,10]\n",
    "print(numbers)"
   ]
  },
  {
   "cell_type": "code",
   "execution_count": 18,
   "id": "a02606d6",
   "metadata": {},
   "outputs": [
    {
     "name": "stdout",
     "output_type": "stream",
     "text": [
      "[3, 4, 5]\n",
      "[1, 2, 3, 4, 5]\n",
      "[6, 7, 8, 9, 10]\n",
      "[1, 3, 5, 7, 9]\n",
      "[10, 9, 8, 7, 6, 5, 4, 3, 2, 1]\n"
     ]
    }
   ],
   "source": [
    "print(numbers[2:5])\n",
    "print(numbers[:5])\n",
    "print(numbers[5:])\n",
    "print(numbers[::2])\n",
    "print(numbers[::-1])"
   ]
  },
  {
   "cell_type": "code",
   "execution_count": 25,
   "id": "023690f4",
   "metadata": {},
   "outputs": [
    {
     "name": "stdout",
     "output_type": "stream",
     "text": [
      "1|2|3|4|5|6|7|8|9|10|"
     ]
    }
   ],
   "source": [
    "# Iterating through a list \n",
    "for number in numbers: \n",
    "    print(number,end=\"|\")"
   ]
  },
  {
   "cell_type": "code",
   "execution_count": 26,
   "id": "3b24fed2",
   "metadata": {},
   "outputs": [
    {
     "name": "stdout",
     "output_type": "stream",
     "text": [
      "0 1\n",
      "1 2\n",
      "2 3\n",
      "3 4\n",
      "4 5\n",
      "5 6\n",
      "6 7\n",
      "7 8\n",
      "8 9\n",
      "9 10\n"
     ]
    }
   ],
   "source": [
    "# Print the numbers with the indices \n",
    "for index,number in enumerate(numbers): \n",
    "    print(index,number)"
   ]
  },
  {
   "cell_type": "markdown",
   "id": "04a7473d",
   "metadata": {},
   "source": [
    "#### List Comprehension \n",
    "- [expression items in iterables]\n",
    "- [expression items in iterables if condition] "
   ]
  },
  {
   "cell_type": "code",
   "execution_count": null,
   "id": "19df7716",
   "metadata": {},
   "outputs": [
    {
     "name": "stdout",
     "output_type": "stream",
     "text": [
      "[1, 4, 9, 16, 25, 36, 49, 64, 81, 100]\n"
     ]
    }
   ],
   "source": [
    "# Squaring of numbers in list \n",
    "lst = []\n",
    "for i in range(1,11,1): \n",
    "    lst.append(i**2)\n",
    "\n",
    "print(lst)"
   ]
  },
  {
   "cell_type": "code",
   "execution_count": null,
   "id": "03c9e17c",
   "metadata": {},
   "outputs": [
    {
     "data": {
      "text/plain": [
       "[1, 4, 9, 16, 25, 36, 49, 64, 81, 100]"
      ]
     },
     "execution_count": 33,
     "metadata": {},
     "output_type": "execute_result"
    }
   ],
   "source": [
    "# In the above code , for just a simple task of squaring numbers , we had to \n",
    "# create list and write so much code , this is where list comprehension comes in.\n",
    "\n",
    "\n",
    "# Basic list comprehension without any conditions\n",
    "[i**2 for i in range(1,11,1)]\n"
   ]
  },
  {
   "cell_type": "code",
   "execution_count": null,
   "id": "c61acaa7",
   "metadata": {},
   "outputs": [
    {
     "name": "stdout",
     "output_type": "stream",
     "text": [
      "[2, 4, 6, 8, 10]\n",
      "[2, 4, 6, 8, 10]\n"
     ]
    }
   ],
   "source": [
    "# Printing even numbers without list comprehension \n",
    "ev_numbers = []\n",
    "for i in range(1,11,1): \n",
    "    if i%2==0: \n",
    "        ev_numbers.append(i)\n",
    "\n",
    "print(ev_numbers)\n",
    "\n",
    "# List comprehension with if condition\n",
    "even_numbers = [i for i in range(1,11,1) if i%2==0]\n",
    "print(even_numbers)"
   ]
  },
  {
   "cell_type": "code",
   "execution_count": null,
   "id": "85eff52c",
   "metadata": {},
   "outputs": [],
   "source": [
    "# Nested List Comprehension \n",
    "lst1=[1,2,3,4]\n",
    "lst2=['a','b','c','d']\n",
    "\n",
    "pair=[[i,j] for i in lst1 for j in lst2]\n",
    "\n",
    "print(pair)"
   ]
  },
  {
   "cell_type": "code",
   "execution_count": 37,
   "id": "551d6457",
   "metadata": {},
   "outputs": [
    {
     "name": "stdout",
     "output_type": "stream",
     "text": [
      "[5, 5, 6, 4, 13]\n"
     ]
    }
   ],
   "source": [
    "## List Comprehension with function calls\n",
    "words = [\"hello\", \"world\", \"python\", \"list\", \"comprehension\"]\n",
    "lengths = [len(word) for word in words]\n",
    "print(lengths)  # Output: [5, 5, 6, 4, 13]\n",
    "\n"
   ]
  },
  {
   "cell_type": "code",
   "execution_count": null,
   "id": "f068e550",
   "metadata": {},
   "outputs": [],
   "source": []
  }
 ],
 "metadata": {
  "kernelspec": {
   "display_name": "Python 3",
   "language": "python",
   "name": "python3"
  },
  "language_info": {
   "codemirror_mode": {
    "name": "ipython",
    "version": 3
   },
   "file_extension": ".py",
   "mimetype": "text/x-python",
   "name": "python",
   "nbconvert_exporter": "python",
   "pygments_lexer": "ipython3",
   "version": "3.12.7"
  }
 },
 "nbformat": 4,
 "nbformat_minor": 5
}
