{
 "cells": [
  {
   "cell_type": "markdown",
   "id": "1a48520d",
   "metadata": {},
   "source": [
    "##### Dictionaries\n"
   ]
  },
  {
   "cell_type": "code",
   "execution_count": null,
   "id": "0042a49e",
   "metadata": {},
   "outputs": [],
   "source": [
    "empty_dict = {}\n",
    "print(type(empty_dict))"
   ]
  },
  {
   "cell_type": "code",
   "execution_count": null,
   "id": "5ab7feb5",
   "metadata": {},
   "outputs": [],
   "source": [
    "student = {\n",
    "    \"name \" : \"Samad\", \n",
    "    \"id \"   :    54 , \n",
    "    \"age \"  :  20\n",
    "}\n",
    "\n",
    "print(student)"
   ]
  },
  {
   "cell_type": "code",
   "execution_count": null,
   "id": "168aae56",
   "metadata": {},
   "outputs": [],
   "source": [
    "# What if we re-define the keys \n",
    "data = {\n",
    "    \"name \" : \"Samad\", \n",
    "    \"id \"   :    54  , \n",
    "    \"age \"  :  20    , \n",
    "    \"name \" :   37 \n",
    "}\n",
    "\n",
    "print(data)\n",
    "# This shows if we re define the keys then it gets overwritten by the latest one \n",
    "# Multiple keys with same names gets overwritten "
   ]
  },
  {
   "cell_type": "code",
   "execution_count": null,
   "id": "d2027928",
   "metadata": {},
   "outputs": [],
   "source": [
    "data2 = {\n",
    "    \"name\" : \"Samad\", \n",
    "    \"id\"   :    54  , \n",
    "    \"age\"  :  20    \n",
    "}\n",
    "\n",
    "# Printing the value \n",
    "print(data2[\"name\"])\n",
    "print(data2['id'])\n",
    "\n",
    "# Printing using get() method\n",
    "print(data2.get('name'))\n",
    "print(data2.get('id'))"
   ]
  },
  {
   "cell_type": "code",
   "execution_count": null,
   "id": "9c6db0ff",
   "metadata": {},
   "outputs": [],
   "source": [
    "# Printing the element which is not present in the dictionary \n",
    "print(data2.get('last_name')) # Output : None \n",
    "\n",
    "# We can also specify what to print if the element is not present in the dictionary \n",
    "print(data2.get('lastname' ,\"Not Available\"))"
   ]
  },
  {
   "cell_type": "code",
   "execution_count": null,
   "id": "80898e0c",
   "metadata": {},
   "outputs": [],
   "source": [
    "# Adding new key-value pair to an existing dictionary \n",
    "# data2 = {\n",
    "#     \"name\" : \"Samad\", \n",
    "#     \"id\"   :    54  , \n",
    "#     \"age\"  :  20    \n",
    "# }\n",
    "\n",
    "data2[\"address\"] = \"Mumbai\" # address column is added to the dictionary \n",
    "data2[\"age\"] = 21 # age is an existing key so age got updated from 20 to 21\n",
    "print(data2)"
   ]
  },
  {
   "cell_type": "code",
   "execution_count": null,
   "id": "d8e96813",
   "metadata": {},
   "outputs": [],
   "source": [
    "# Delete the key from the dictionary \n",
    "# Deleting a key-value from the dictionary\n",
    "del data2['age']"
   ]
  },
  {
   "cell_type": "code",
   "execution_count": null,
   "id": "fb792f41",
   "metadata": {},
   "outputs": [],
   "source": [
    "keys = data2.keys()\n",
    "print(keys)\n",
    "value = data2.values()\n",
    "print(value)\n",
    "\n",
    "items = data2.items()\n",
    "print(items)"
   ]
  },
  {
   "cell_type": "code",
   "execution_count": 1,
   "id": "de1643ab",
   "metadata": {},
   "outputs": [
    {
     "name": "stdout",
     "output_type": "stream",
     "text": [
      "{'name': 'Samad', 'id': 54, 'age': 20}\n"
     ]
    }
   ],
   "source": [
    "data3 = {\n",
    "    \"name\" : \"Samad\", \n",
    "    \"id\"   :    54  , \n",
    "    \"age\"  :  20    , \n",
    "}\n",
    "\n",
    "print(data3)"
   ]
  },
  {
   "cell_type": "code",
   "execution_count": 2,
   "id": "5f7d4585",
   "metadata": {},
   "outputs": [
    {
     "name": "stdout",
     "output_type": "stream",
     "text": [
      "{'name': 'Samad', 'id': 54, 'age': 20}\n",
      "{'name': 'Samad', 'id': 54, 'age': 20}\n"
     ]
    }
   ],
   "source": [
    "data3_copy = data3\n",
    "print(data3_copy)\n",
    "print(data3)"
   ]
  },
  {
   "cell_type": "code",
   "execution_count": 3,
   "id": "7eff13eb",
   "metadata": {},
   "outputs": [],
   "source": [
    "data3[\"age\"] = 22"
   ]
  },
  {
   "cell_type": "code",
   "execution_count": 4,
   "id": "1ed76203",
   "metadata": {},
   "outputs": [
    {
     "name": "stdout",
     "output_type": "stream",
     "text": [
      "{'name': 'Samad', 'id': 54, 'age': 22}\n",
      "{'name': 'Samad', 'id': 54, 'age': 22}\n"
     ]
    }
   ],
   "source": [
    "print(data3_copy)\n",
    "print(data3)"
   ]
  },
  {
   "cell_type": "code",
   "execution_count": 5,
   "id": "fd4ba233",
   "metadata": {},
   "outputs": [
    {
     "name": "stdout",
     "output_type": "stream",
     "text": [
      "{'name': 'Samad', 'id': 54, 'age': 22}\n",
      "{'name': 'Samad', 'id': 54, 'age': 22}\n"
     ]
    }
   ],
   "source": [
    "data3_copy2 = data3.copy()\n",
    "print(data3_copy2)\n",
    "print(data3)"
   ]
  },
  {
   "cell_type": "code",
   "execution_count": 6,
   "id": "fd16db40",
   "metadata": {},
   "outputs": [
    {
     "name": "stdout",
     "output_type": "stream",
     "text": [
      "{'name': 'Samad', 'id': 54, 'age': 25}\n",
      "{'name': 'Samad', 'id': 54, 'age': 22}\n"
     ]
    }
   ],
   "source": [
    "data3[\"age\"]=25\n",
    "print(data3)\n",
    "print(data3_copy2)"
   ]
  },
  {
   "cell_type": "code",
   "execution_count": null,
   "id": "ab2a5675",
   "metadata": {},
   "outputs": [],
   "source": []
  },
  {
   "cell_type": "code",
   "execution_count": 7,
   "id": "f0f165d2",
   "metadata": {},
   "outputs": [
    {
     "name": "stdout",
     "output_type": "stream",
     "text": [
      "{'name': 'Samad', 'id': 54, 'age': 25}\n"
     ]
    }
   ],
   "source": [
    "print(data3)"
   ]
  },
  {
   "cell_type": "code",
   "execution_count": null,
   "id": "c25f4562",
   "metadata": {},
   "outputs": [
    {
     "name": "stdout",
     "output_type": "stream",
     "text": [
      "name\n",
      "id\n",
      "age\n"
     ]
    }
   ],
   "source": [
    "# Iterating over keys in dictionary \n",
    "for keys in data3.keys(): \n",
    "    print(keys)"
   ]
  },
  {
   "cell_type": "code",
   "execution_count": 10,
   "id": "bcc5d64c",
   "metadata": {},
   "outputs": [
    {
     "name": "stdout",
     "output_type": "stream",
     "text": [
      "Samad\n",
      "54\n",
      "25\n"
     ]
    }
   ],
   "source": [
    "# Iterating over values in dictionary \n",
    "for values in data3.values(): \n",
    "    print(values)"
   ]
  },
  {
   "cell_type": "code",
   "execution_count": 11,
   "id": "5fc301f5",
   "metadata": {},
   "outputs": [
    {
     "name": "stdout",
     "output_type": "stream",
     "text": [
      "name : Samad\n",
      "id : 54\n",
      "age : 25\n"
     ]
    }
   ],
   "source": [
    "# Iterating over full dictionary \n",
    "for key, values in data3.items():\n",
    "    print(f\"{key} : {values}\")"
   ]
  },
  {
   "cell_type": "code",
   "execution_count": 1,
   "id": "0db86997",
   "metadata": {},
   "outputs": [],
   "source": [
    "student_data = {\n",
    "    \"Student1\" : {\n",
    "    \"name\" : \"Samad\", \n",
    "    \"id\"   :    54  , \n",
    "    \"age\"  :  20    \n",
    "    },\n",
    "\n",
    "    \"Student2\" : {\n",
    "    \"name\" : \"Umar\", \n",
    "    \"id\"   :    100  , \n",
    "    \"age\"  :  20    \n",
    "    },\n",
    "\n",
    "    \"Student3\" : {\n",
    "    \"name\" : \"Usman\", \n",
    "    \"id\"   :    23  , \n",
    "    \"age\"  :  20    \n",
    "    }\n",
    "}"
   ]
  },
  {
   "cell_type": "code",
   "execution_count": 6,
   "id": "9e6c221e",
   "metadata": {},
   "outputs": [
    {
     "name": "stdout",
     "output_type": "stream",
     "text": [
      "name : Samad\n",
      "id : 54\n",
      "age : 20\n",
      "name : Umar\n",
      "id : 100\n",
      "age : 20\n",
      "name : Usman\n",
      "id : 23\n",
      "age : 20\n"
     ]
    }
   ],
   "source": [
    "# Iterating over Nested Dictionary \n",
    "for student_id , student_info in student_data.items(): \n",
    "    for keys,values in student_info.items(): \n",
    "        print(f\"{keys} : {values}\")"
   ]
  },
  {
   "cell_type": "code",
   "execution_count": null,
   "id": "de89bdd3",
   "metadata": {},
   "outputs": [
    {
     "name": "stdout",
     "output_type": "stream",
     "text": [
      "1 : 1\n",
      "2 : 4\n",
      "3 : 9\n",
      "4 : 16\n",
      "5 : 25\n",
      "6 : 36\n",
      "7 : 49\n",
      "8 : 64\n",
      "9 : 81\n",
      "10 : 100\n",
      "{1: 1, 2: 4, 3: 9, 4: 16, 5: 25, 6: 36, 7: 49, 8: 64, 9: 81, 10: 100}\n"
     ]
    }
   ],
   "source": [
    "# Dictionary Comprehension \n",
    "squares = {}\n",
    "for i in range(1,11,1): \n",
    "    squares[i] = i**2\n",
    "\n",
    "for keys, values in squares.items(): \n",
    "    print(f\"{keys} : {values}\" )\n",
    "\n",
    "\n",
    "\n",
    "# With Dictionary comprehension \n",
    "squarez = {i:i**2 for i in range(1,11,1)}\n",
    "print(squarez)"
   ]
  },
  {
   "cell_type": "code",
   "execution_count": 13,
   "id": "8451af1a",
   "metadata": {},
   "outputs": [
    {
     "name": "stdout",
     "output_type": "stream",
     "text": [
      "{2: 4, 4: 16, 6: 36, 8: 64, 10: 100, 12: 144, 14: 196, 16: 256, 18: 324, 20: 400}\n"
     ]
    }
   ],
   "source": [
    "# Dictionary comprehension using conditions\n",
    "even_squares = {i:i**2 for i in range(1,21, 1) if i%2==0 }\n",
    "print(even_squares)"
   ]
  },
  {
   "cell_type": "code",
   "execution_count": 14,
   "id": "f2cc7bbb",
   "metadata": {},
   "outputs": [
    {
     "name": "stdout",
     "output_type": "stream",
     "text": [
      "{1: 1, 2: 2, 3: 3, 4: 4}\n"
     ]
    }
   ],
   "source": [
    "# Count the frequency of elements using a list and dictionary \n",
    "numbers=[1,2,2,3,3,3,4,4,4,4]\n",
    "frequency = {}\n",
    "\n",
    "for number in numbers : \n",
    "    if number in frequency: \n",
    "        frequency[number]+=1 \n",
    "    else: \n",
    "        frequency[number]= 1 \n",
    "\n",
    "print(frequency)"
   ]
  },
  {
   "cell_type": "code",
   "execution_count": null,
   "id": "4c3be976",
   "metadata": {},
   "outputs": [],
   "source": [
    "## Merge 2 dictionaries into one\n",
    "\n",
    "dict1={\"a\":1,\"b\":2}\n",
    "dict2={\"b\":3,\"c\":4}\n",
    "merged_dict={**dict1,**dict2}\n",
    "print(merged_dict)"
   ]
  }
 ],
 "metadata": {
  "kernelspec": {
   "display_name": "Python 3",
   "language": "python",
   "name": "python3"
  },
  "language_info": {
   "codemirror_mode": {
    "name": "ipython",
    "version": 3
   },
   "file_extension": ".py",
   "mimetype": "text/x-python",
   "name": "python",
   "nbconvert_exporter": "python",
   "pygments_lexer": "ipython3",
   "version": "3.12.0"
  }
 },
 "nbformat": 4,
 "nbformat_minor": 5
}
