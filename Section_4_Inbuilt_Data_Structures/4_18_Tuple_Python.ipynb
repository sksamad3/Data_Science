{
 "cells": [
  {
   "cell_type": "markdown",
   "id": "099dbdac",
   "metadata": {},
   "source": [
    "#### Tuples in Python \n"
   ]
  },
  {
   "cell_type": "markdown",
   "id": "90e31dad",
   "metadata": {},
   "source": [
    "Learning Competencies\n",
    "- 1. Creating empty tuple\n",
    "- 2. Slicing Tuples \n",
    "- 3. Coversion of tuple to list and list to tuple\n",
    "- 4. Concatenating two tuples \n",
    "- 5. Repeating Tuples\n",
    "- 6. count() method\n",
    "- 7. index() method\n",
    "- 8. packing of a tuple\n",
    "- 9. Unpacking of a tuple \n",
    "- 10. Unpacking of a tuple using a * \n",
    "- 11. Demonstrate nested lists a"
   ]
  },
  {
   "cell_type": "code",
   "execution_count": 1,
   "id": "809612d7",
   "metadata": {},
   "outputs": [
    {
     "name": "stdout",
     "output_type": "stream",
     "text": [
      "<class 'tuple'>\n"
     ]
    }
   ],
   "source": [
    "# Creating an empty tuple \n",
    "empty_tuple = tuple()\n",
    "print(type(empty_tuple))"
   ]
  },
  {
   "cell_type": "code",
   "execution_count": 1,
   "id": "d9ea1150",
   "metadata": {},
   "outputs": [
    {
     "name": "stdout",
     "output_type": "stream",
     "text": [
      "<class 'tuple'>\n"
     ]
    }
   ],
   "source": [
    "tpl = tuple()\n",
    "print(type(tpl))"
   ]
  },
  {
   "cell_type": "code",
   "execution_count": 3,
   "id": "0aee200e",
   "metadata": {},
   "outputs": [
    {
     "name": "stdout",
     "output_type": "stream",
     "text": [
      "<class 'list'>\n"
     ]
    }
   ],
   "source": [
    "tup = (1 ,2 ,3 ,4 ,5 ,6 )\n",
    "# converting into a list \n",
    "lst = list(tup)\n",
    "print(type(lst))"
   ]
  },
  {
   "cell_type": "code",
   "execution_count": 5,
   "id": "bfd110b5",
   "metadata": {},
   "outputs": [
    {
     "name": "stdout",
     "output_type": "stream",
     "text": [
      "<class 'tuple'>\n"
     ]
    }
   ],
   "source": [
    "ls = [1, 2, 3 ,5 ,6 ,9]\n",
    "ls = tuple(ls)\n",
    "print(type(ls))\n"
   ]
  },
  {
   "cell_type": "code",
   "execution_count": null,
   "id": "dc397fbe",
   "metadata": {},
   "outputs": [],
   "source": [
    "numbers = (10 , 20 , 30 , 50 , 5,208 , 102 , 34,29)"
   ]
  },
  {
   "cell_type": "code",
   "execution_count": 10,
   "id": "75da568e",
   "metadata": {},
   "outputs": [
    {
     "name": "stdout",
     "output_type": "stream",
     "text": [
      "30\n",
      "5\n"
     ]
    }
   ],
   "source": [
    "# Accessing the elements in a tuple \n",
    "print(numbers[2])\n",
    "print(numbers[-1])"
   ]
  },
  {
   "cell_type": "code",
   "execution_count": null,
   "id": "2ddddb28",
   "metadata": {},
   "outputs": [
    {
     "name": "stdout",
     "output_type": "stream",
     "text": [
      "(10, 20, 30, 50)\n",
      "(5, 50, 30, 20, 10)\n"
     ]
    }
   ],
   "source": [
    "# Print the elements from 0 index to 4th index\n",
    "print(numbers[0:4])\n",
    "print(numbers[::-1])"
   ]
  },
  {
   "cell_type": "code",
   "execution_count": 14,
   "id": "abe2a7c0",
   "metadata": {},
   "outputs": [],
   "source": [
    "mixed_tuple = (1, 'Hello World' , 3.14 , True)\n"
   ]
  },
  {
   "cell_type": "code",
   "execution_count": 15,
   "id": "9938e84f",
   "metadata": {},
   "outputs": [
    {
     "name": "stdout",
     "output_type": "stream",
     "text": [
      "(10, 20, 30, 50, 5, 1, 'Hello World', 3.14, True)\n"
     ]
    }
   ],
   "source": [
    "# Concatenating 2 tuples \n",
    "concatenated_tuple = numbers + mixed_tuple \n",
    "print(concatenated_tuple)"
   ]
  },
  {
   "cell_type": "code",
   "execution_count": null,
   "id": "dcbae8eb",
   "metadata": {},
   "outputs": [
    {
     "name": "stdout",
     "output_type": "stream",
     "text": [
      "(1, 'Hello World', 3.14, True, 1, 'Hello World', 3.14, True, 1, 'Hello World', 3.14, True)\n"
     ]
    }
   ],
   "source": [
    "# Repeating tuples \n",
    "print(mixed_tuple*3)"
   ]
  },
  {
   "cell_type": "code",
   "execution_count": null,
   "id": "b645264a",
   "metadata": {},
   "outputs": [
    {
     "name": "stdout",
     "output_type": "stream",
     "text": [
      "2\n",
      "6\n"
     ]
    }
   ],
   "source": [
    "# Tuple methods \n",
    "numbers2 = (10 ,10 ,20 , 30 , 50 , 5,208 , 102 , 34,29)\n",
    "print(numbers2.count(10)) # Returns the count of elements in a tuple\n",
    "print(numbers2.index(208)) # Returns the index where the element is present"
   ]
  },
  {
   "cell_type": "code",
   "execution_count": null,
   "id": "ab395c4e",
   "metadata": {},
   "outputs": [
    {
     "name": "stdout",
     "output_type": "stream",
     "text": [
      "(1, 2, 3, 'hello', True)\n"
     ]
    }
   ],
   "source": [
    "# Packs the tuple \n",
    "packed_tuple = 1 ,2 ,3 , \"hello\" , True\n",
    "print(packed_tuple)"
   ]
  },
  {
   "cell_type": "code",
   "execution_count": 28,
   "id": "2fd38073",
   "metadata": {},
   "outputs": [
    {
     "name": "stdout",
     "output_type": "stream",
     "text": [
      "1\n",
      "2\n",
      "3\n",
      "hello\n",
      "True\n"
     ]
    }
   ],
   "source": [
    "# Unpacking a tuple \n",
    "# Unpacking means simply extracting the elements from a tuple into separate variables \n",
    "packed_tuple2 = 1 ,2 ,3 , \"hello\" , True\n",
    "\n",
    "# Let's unpack the tuple \n",
    "a , b , c , d , e = packed_tuple2\n",
    "print(a)\n",
    "print(b)\n",
    "print(c)\n",
    "print(d)\n",
    "print(e)"
   ]
  },
  {
   "cell_type": "code",
   "execution_count": 30,
   "id": "6069605e",
   "metadata": {},
   "outputs": [
    {
     "name": "stdout",
     "output_type": "stream",
     "text": [
      "2\n",
      "[4, 6, 8, 10, 12, 14, 16, 18]\n",
      "20\n"
     ]
    }
   ],
   "source": [
    "even_tuple = (2 , 4 , 6 , 8 , 10 , 12 ,14 , 16 , 18 , 20)\n",
    "start , *middle ,end = even_tuple\n",
    "print(start)\n",
    "print(middle)\n",
    "print(end)"
   ]
  },
  {
   "cell_type": "code",
   "execution_count": 1,
   "id": "221dde3f",
   "metadata": {},
   "outputs": [
    {
     "name": "stdout",
     "output_type": "stream",
     "text": [
      "[1, 'Hello', 3.14]\n"
     ]
    }
   ],
   "source": [
    "#     ---0---   ----1--   --------2----------\n",
    "lst=[[1,2,3,4],[6,7,8,9],[1,\"Hello\",3.14,\"c\"]]\n",
    "\n",
    "# Print the 2nd index and inside it print from 1 to 3.14\n",
    "print(lst[2][0:3])"
   ]
  },
  {
   "cell_type": "code",
   "execution_count": 3,
   "id": "56c4bb35",
   "metadata": {},
   "outputs": [
    {
     "name": "stdout",
     "output_type": "stream",
     "text": [
      "(1, 2, 3)\n",
      "c\n"
     ]
    }
   ],
   "source": [
    "# Do the above operation with the tuples too\n",
    "nested_tuple = ((1, 2, 3), (\"a\", \"b\", \"c\"), (True, False))\n",
    "\n",
    "## access the elements inside a tuple\n",
    "print(nested_tuple[0]) # Output : (1, 2 ,3 )\n",
    "print(nested_tuple[1][2]) # This will first go into the 1st index and then inside that will print the element at 2nd index\n",
    "# Output : c"
   ]
  },
  {
   "cell_type": "code",
   "execution_count": 4,
   "id": "28a76a86",
   "metadata": {},
   "outputs": [
    {
     "name": "stdout",
     "output_type": "stream",
     "text": [
      "1 2 3 \n",
      "a b c \n",
      "True False \n"
     ]
    }
   ],
   "source": [
    "# Lets iterate over nested tuples\n",
    "for sub_tuple in nested_tuple: \n",
    "    for items in sub_tuple: \n",
    "        print(items,end=\" \")\n",
    "    print()"
   ]
  },
  {
   "cell_type": "code",
   "execution_count": null,
   "id": "83898e44",
   "metadata": {},
   "outputs": [],
   "source": []
  }
 ],
 "metadata": {
  "kernelspec": {
   "display_name": "Python 3",
   "language": "python",
   "name": "python3"
  },
  "language_info": {
   "codemirror_mode": {
    "name": "ipython",
    "version": 3
   },
   "file_extension": ".py",
   "mimetype": "text/x-python",
   "name": "python",
   "nbconvert_exporter": "python",
   "pygments_lexer": "ipython3",
   "version": "3.12.7"
  }
 },
 "nbformat": 4,
 "nbformat_minor": 5
}
