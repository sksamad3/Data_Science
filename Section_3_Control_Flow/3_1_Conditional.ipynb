{
 "cells": [
  {
   "cell_type": "markdown",
   "id": "2f3b2feb",
   "metadata": {},
   "source": [
    "#### Conditional Statements (if, elif, else)\n",
    "Learning Competencies:\n",
    "1. Introduction to Conditional Statements\n",
    "2. if Statement\n",
    "3. else Statement\n",
    "4. elif Statement\n",
    "5. Nested Conditional Statements\n",
    "6. Practical Examples\n",
    "7. Common Errors and Best Practices"
   ]
  },
  {
   "cell_type": "code",
   "execution_count": 1,
   "id": "c2ccde92",
   "metadata": {},
   "outputs": [
    {
     "name": "stdout",
     "output_type": "stream",
     "text": [
      "You are eligible to vote in elections\n"
     ]
    }
   ],
   "source": [
    "# 1. If \n",
    "age = 20 \n",
    "if age>=18: \n",
    "    print(\"You are eligible to vote in elections\")"
   ]
  },
  {
   "cell_type": "code",
   "execution_count": 2,
   "id": "ae90f0bb",
   "metadata": {},
   "outputs": [
    {
     "name": "stdout",
     "output_type": "stream",
     "text": [
      "You are a minor \n"
     ]
    }
   ],
   "source": [
    "# 2. if-else\n",
    "age = 5\n",
    "if age>=18 : \n",
    "    print(\"You are eligible to vote in the elections\")\n",
    "else: \n",
    "    print(\"You are a minor \")"
   ]
  },
  {
   "cell_type": "code",
   "execution_count": 7,
   "id": "6786a571",
   "metadata": {},
   "outputs": [
    {
     "name": "stdout",
     "output_type": "stream",
     "text": [
      "Age cannot be 0 or negative ! \n"
     ]
    }
   ],
   "source": [
    "# 3. elif\n",
    "age = -1\n",
    "if age<=0: \n",
    "    print(\"Age cannot be 0 or negative ! \")\n",
    "elif age<13 : \n",
    "    print(\"You are a kid \")\n",
    "elif age<=18: \n",
    "    print(\"You are a teenager \")\n",
    "else: \n",
    "    print(\"You are an adult\")"
   ]
  },
  {
   "cell_type": "code",
   "execution_count": 10,
   "id": "0759b95b",
   "metadata": {},
   "outputs": [
    {
     "name": "stdout",
     "output_type": "stream",
     "text": [
      "23  is a positive number \n",
      "23  is an odd number \n"
     ]
    }
   ],
   "source": [
    "# 4. Nested if else block \n",
    "num = int(input(\"Enter a number : \"))\n",
    "\n",
    "if num >=0 : \n",
    "    print(num , \" is a positive number \")\n",
    "    if num%2 == 0: \n",
    "        print(num , \" is an even number \")\n",
    "    else: \n",
    "        print(num, \" is an odd number \")\n",
    "else: \n",
    "    print(num , \" is a negative number\")"
   ]
  },
  {
   "cell_type": "code",
   "execution_count": null,
   "id": "219870f9",
   "metadata": {},
   "outputs": [],
   "source": [
    "# Leap year\n",
    "year = int(input(\"Enter a year : \"))\n",
    "\n",
    "# Check if the year is divisible by 4\n",
    "if(year % 4==0): \n",
    "    if(year % 100 == 0):  # If the year is divisible by 4, check if it is also divisible by 100\n",
    "        if(year%400==0):  #If divisible by both 100 and 400, it's a leap year\n",
    "            print(year , \" is a leap year\") # leap year\n",
    "        else:  # If divisible by 100 but not 400, it's not a leap year\n",
    "            print(year , \" is not a leap year\")\n",
    "    elif(year%100 != 0 ):  # If divisible by 4 but not by 100, it's a leap year\n",
    "        print(year , \" is a leap year\")\n",
    "else: # If not divisible by 4, it's not a leap year\n",
    "    print(year , \" is not a leap year\")\n"
   ]
  },
  {
   "cell_type": "code",
   "execution_count": null,
   "id": "b63268b9",
   "metadata": {},
   "outputs": [],
   "source": []
  },
  {
   "cell_type": "code",
   "execution_count": null,
   "id": "1ccce766",
   "metadata": {},
   "outputs": [],
   "source": []
  }
 ],
 "metadata": {
  "kernelspec": {
   "display_name": "Python 3",
   "language": "python",
   "name": "python3"
  },
  "language_info": {
   "codemirror_mode": {
    "name": "ipython",
    "version": 3
   },
   "file_extension": ".py",
   "mimetype": "text/x-python",
   "name": "python",
   "nbconvert_exporter": "python",
   "pygments_lexer": "ipython3",
   "version": "3.12.0"
  }
 },
 "nbformat": 4,
 "nbformat_minor": 5
}
